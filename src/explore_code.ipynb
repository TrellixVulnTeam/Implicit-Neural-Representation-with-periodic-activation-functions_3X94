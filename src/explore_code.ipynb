{
  "nbformat": 4,
  "nbformat_minor": 0,
  "metadata": {
    "colab": {
      "name": "structured_project.ipynb",
      "provenance": [],
      "collapsed_sections": [
        "GbofcVue2bTf",
        "qmimKEnmpr1w",
        "JeOsCKph7aFg",
        "1pusMScNF6gG",
        "_7qx4GSyGJ7A",
        "dwmni0NzvjzK",
        "lM9_4LHCe4AI",
        "jvRJGqQNfGxv",
        "FRRce2Vlfv0M",
        "lHjoZsDTigfm",
        "7XSLBs1qWI3V",
        "8F2wHa-daLT_",
        "kBc74xGxaRqz",
        "MERz1RyXahgM",
        "OGkhMOqbCH98",
        "WlE90cefbPp0",
        "UYtSnlHqC30O",
        "9ENGSXWZN9aO",
        "lBX70ZGKzx7c",
        "yFpVBMYXOCac",
        "oiEy-Xa1OaS-",
        "Ny34-QZ9t0cP",
        "aAk4DueRuEOb",
        "2s52zrDmPlK9",
        "pg2SukbY0jrt",
        "e8Kc_7lo1Ir6",
        "e_mAy1EK1l8y",
        "jTQ9lr2oQxSg",
        "TFvKF3ckQ2UW",
        "rfq8fE1gRVCG",
        "qi5UD8OCRc40",
        "KQTo_JiF9XPq",
        "H7UgZQss9ttM",
        "k1ZNDZu8_3jV",
        "e0KywIQX9bbr",
        "7R9D0mpP9f_p",
        "vhNxijv4970U",
        "L_nwsc5WpF49",
        "PObpForRqB46",
        "X9jGA-0n9jLL",
        "aycOnXiW9lKm",
        "I85I0fJUT6K5",
        "2UWfTg34OWR_"
      ],
      "toc_visible": true,
      "include_colab_link": true
    },
    "kernelspec": {
      "name": "python3",
      "display_name": "Python 3"
    },
    "accelerator": "GPU"
  },
  "cells": [
    {
      "cell_type": "markdown",
      "metadata": {
        "id": "view-in-github",
        "colab_type": "text"
      },
      "source": [
        "<a href=\"https://colab.research.google.com/github/paologastaldi-polito/siren/blob/master/src/explore_code.ipynb\" target=\"_parent\"><img src=\"https://colab.research.google.com/assets/colab-badge.svg\" alt=\"Open In Colab\"/></a>"
      ]
    },
    {
      "cell_type": "markdown",
      "metadata": {
        "id": "GbofcVue2bTf"
      },
      "source": [
        "# Environment initialization"
      ]
    },
    {
      "cell_type": "code",
      "metadata": {
        "id": "k9O3aM3Tb28q"
      },
      "source": [
        "!pip3 install 'torch==1.3.1'\n",
        "!pip3 install 'torchvision==0.5.0'\n",
        "!pip3 install 'Pillow-SIMD'\n",
        "!pip3 install 'tqdm'\n",
        "!pip3 install 'tensorflow'"
      ],
      "execution_count": null,
      "outputs": []
    },
    {
      "cell_type": "markdown",
      "metadata": {
        "id": "_IS7mW3IujAY"
      },
      "source": [
        "# Project initialization"
      ]
    },
    {
      "cell_type": "markdown",
      "metadata": {
        "id": "qmimKEnmpr1w"
      },
      "source": [
        "###Install requirements"
      ]
    },
    {
      "cell_type": "code",
      "metadata": {
        "id": "-xxNdPlzprnb"
      },
      "source": [
        "!pip3 install 'sk-video'\n",
        "!pip3 install 'cmapy'\n",
        "!pip3 install 'wget'\n",
        "!pip3 install 'python-box'"
      ],
      "execution_count": null,
      "outputs": []
    },
    {
      "cell_type": "markdown",
      "metadata": {
        "id": "JeOsCKph7aFg"
      },
      "source": [
        "###Reset filesystem"
      ]
    },
    {
      "cell_type": "code",
      "metadata": {
        "id": "xBi03Y_X7foJ"
      },
      "source": [
        "# !rm -rf 'SRGAN-PyTorch'\r\n",
        "# !rm -rf 'siren'\r\n",
        "# !rm -rf 'BSDS500'\r\n",
        "# !rm -rf 'DIV2K-loader'\r\n",
        "# !rm -rf 'data'"
      ],
      "execution_count": null,
      "outputs": []
    },
    {
      "cell_type": "markdown",
      "metadata": {
        "id": "1pusMScNF6gG"
      },
      "source": [
        "### Import libraries"
      ]
    },
    {
      "cell_type": "code",
      "metadata": {
        "id": "HhfWDga3Lq-7"
      },
      "source": [
        "### IMPORTANT: due to some file conflicts, import first the SRGAN code, then the SIREN one ###\n",
        "\n",
        "import sys, os\n",
        "\n",
        "# Clone SRGAN github repository and import the model\n",
        "if not os.path.isdir('SRGAN-PyTorch'):\n",
        "    !git clone 'https://github.com/twhui/SRGAN-PyTorch.git'\n",
        "\n",
        "sys.path.append('SRGAN-PyTorch')\n",
        "import models, options, utils\n",
        "\n",
        "# Clone SIREN github repository and import the model\n",
        "# if not os.path.isdir('siren'):\n",
        "#     !git clone 'https://github.com/paologastaldi-polito/siren.git'\n",
        "!rm -rf 'siren'\n",
        "!git clone 'https://github.com/paologastaldi-polito/siren.git'\n",
        "\n",
        "sys.path.append('siren/src/mylibs')\n",
        "import myutils, mydataloader, siren, relu, loss_functions\n",
        "from mydataloader import PoissonEqn\n",
        "from siren import Siren\n",
        "from relu import Relu\n",
        "\n",
        "# import useful libraries\n",
        "from torch.utils.data import DataLoader\n",
        "import torch\n",
        "import matplotlib.pyplot as plt\n",
        "import time\n",
        "import torch.nn.init as init\n",
        "from functools import partial\n",
        "from tqdm import tqdm"
      ],
      "execution_count": null,
      "outputs": []
    },
    {
      "cell_type": "markdown",
      "metadata": {
        "id": "_7qx4GSyGJ7A"
      },
      "source": [
        "### Import datasets"
      ]
    },
    {
      "cell_type": "code",
      "metadata": {
        "id": "AgeFSdzyGNg7"
      },
      "source": [
        "# Import repository with the BDDS500 dataset\n",
        "if not os.path.isdir('BSDS500'):\n",
        "    !git clone 'https://github.com/BIDS/BSDS500.git'\n",
        "\n",
        "# Import repository with the DIV2K dataloader\n",
        "if not os.path.isdir('DIV2K-loader'):\n",
        "    !git clone 'https://github.com/paologastaldi-polito/DIV2K-loader.git'\n",
        "    !mv 'DIV2K-loader/DIV2K-loader.py' 'DIV2K-loader/DIV2K_loader.py'\n",
        "\n",
        "sys.path.append('DIV2K-loader')\n",
        "import DIV2K_loader\n",
        "from DIV2K_loader import DIV2KImport, DIV2KImageDataset, default_transform"
      ],
      "execution_count": null,
      "outputs": []
    },
    {
      "cell_type": "markdown",
      "metadata": {
        "id": "dwmni0NzvjzK"
      },
      "source": [
        "#1 - Implement the network"
      ]
    },
    {
      "cell_type": "code",
      "metadata": {
        "id": "ivlWKdLwyD7g"
      },
      "source": [
        "HIDDEN_LAYERS = 2\r\n",
        "LR = 1e-4\r\n",
        "TOTAL_STEPS = 500 # for testing the code\r\n",
        "# TOTAL_STEPS = 15000 # for real training\r\n",
        "STEPS_TIL_SUMMARY = 500\r\n",
        "VERBOSE = False\r\n",
        "sidelength = 256"
      ],
      "execution_count": null,
      "outputs": []
    },
    {
      "cell_type": "markdown",
      "metadata": {
        "id": "lM9_4LHCe4AI"
      },
      "source": [
        "#2 - Image fitting and Poisson image reconstruction"
      ]
    },
    {
      "cell_type": "markdown",
      "metadata": {
        "id": "jvRJGqQNfGxv"
      },
      "source": [
        "###2.1 - Image fitting"
      ]
    },
    {
      "cell_type": "markdown",
      "metadata": {
        "id": "FRRce2Vlfv0M"
      },
      "source": [
        "#####2.1.1 - Prepare data"
      ]
    },
    {
      "cell_type": "code",
      "metadata": {
        "id": "Jx22y1akf7D7"
      },
      "source": [
        "dataset = PoissonEqn(sidelength)\r\n",
        "dataloader = DataLoader(dataset, batch_size=1, pin_memory=True, num_workers=0)\r\n",
        "\r\n",
        "model_input, gt = next(iter(dataloader))\r\n",
        "gt_cameraman = gt\r\n",
        "gt = {key: value.cuda() for key, value in gt.items()}\r\n",
        "model_input = model_input.cuda()"
      ],
      "execution_count": null,
      "outputs": []
    },
    {
      "cell_type": "markdown",
      "metadata": {
        "id": "lHjoZsDTigfm"
      },
      "source": [
        "#####2.1.2 - Train on image"
      ]
    },
    {
      "cell_type": "code",
      "metadata": {
        "id": "XaXhGYjNik41"
      },
      "source": [
        "# Create the network\r\n",
        "net_type = 'siren'\r\n",
        "training = 'on_image'\r\n",
        "net = Siren(n_hidden_layers=HIDDEN_LAYERS, hidden_features=256) # IMPORTANT: 3 layers to compare with SIREN paper results\r\n",
        "model = net.cuda()\r\n",
        "\r\n",
        "# Define optimizer\r\n",
        "optim = torch.optim.Adam(lr=LR, params=model.parameters())\r\n",
        "\r\n",
        "total_steps = TOTAL_STEPS\r\n",
        "steps_til_summary = STEPS_TIL_SUMMARY\r\n",
        "verbose = VERBOSE # True, False\r\n",
        "\r\n",
        "psnrs = []\r\n",
        "ssims = []\r\n",
        "\r\n",
        "for step in range(total_steps+1):\r\n",
        "    model_output, coords = model(model_input)    \r\n",
        "    loss = loss_functions.image_mse(model_output, coords, gt['img'])\r\n",
        "    psnr = myutils.psnr(model_output, gt['img'])\r\n",
        "    psnrs.append(psnr)\r\n",
        "    ssim = myutils.ssim(model_output, gt['img'])\r\n",
        "    ssims.append(ssim)\r\n",
        "\r\n",
        "    if not step % steps_til_summary:\r\n",
        "        print(\"Step %d, Total loss %0.6f\" % (step, loss))\r\n",
        "        print('GPU Memory occupation: %0.1f / %0.1f GB' % (torch.cuda.memory_allocated(0) / (1024 ** 3), torch.cuda.get_device_properties(0).total_memory / (1024 ** 3)))\r\n",
        "        \r\n",
        "        if verbose or step == total_steps:\r\n",
        "            img = model_output.clone()\r\n",
        "            img_grads = myutils.gradient(model_output, coords)\r\n",
        "            img_laplacian = myutils.laplace(model_output, coords)\r\n",
        "\r\n",
        "            img_dict = {\r\n",
        "                'img' : img,\r\n",
        "                'grads' : img_grads,\r\n",
        "                'laplace' : img_laplacian\r\n",
        "            }\r\n",
        "            if step == total_steps:\r\n",
        "                fname = net_type + '_' + str(HIDDEN_LAYERS) + '_layers_' + str(total_steps) + '_' + training + '_' + str(sidelength) + '.png'\r\n",
        "                myutils.plot_all(img_dict, gt, sidelength=sidelength, save=True, fname=fname)\r\n",
        "            else:\r\n",
        "                myutils.plot_all(img_dict, gt, sidelength=sidelength)\r\n",
        "\r\n",
        "    optim.zero_grad()\r\n",
        "    loss.backward()\r\n",
        "    optim.step()\r\n",
        "\r\n",
        "print('Ground truth')\r\n",
        "myutils.plot_all(gt, gt, sidelength=sidelength)\r\n",
        "\r\n",
        "siren_image = {key: value.cpu().detach() for key, value in img_dict.items()}\r\n",
        "psnr_siren_image = psnrs\r\n",
        "ssims_siren_image = ssims"
      ],
      "execution_count": null,
      "outputs": []
    },
    {
      "cell_type": "markdown",
      "metadata": {
        "id": "7XSLBs1qWI3V"
      },
      "source": [
        "###2.2 - Poisson image reconstruction"
      ]
    },
    {
      "cell_type": "markdown",
      "metadata": {
        "id": "E5DdrypWWuIz"
      },
      "source": [
        "#####2.2.1 - Prepare data"
      ]
    },
    {
      "cell_type": "code",
      "metadata": {
        "id": "zQ_gAn7EWuI4"
      },
      "source": [
        "dataset = PoissonEqn(sidelength, img_type='starfish')\r\n",
        "dataloader = DataLoader(dataset, batch_size=1, pin_memory=True, num_workers=0)\r\n",
        "\r\n",
        "model_input, gt = next(iter(dataloader))\r\n",
        "gt['grads'] *= 10\r\n",
        "gt['laplace'] *= 1e4\r\n",
        "gt_starfish = gt\r\n",
        "gt = {key: value.cuda() for key, value in gt.items()}\r\n",
        "model_input = model_input.cuda()"
      ],
      "execution_count": null,
      "outputs": []
    },
    {
      "cell_type": "markdown",
      "metadata": {
        "id": "nRAu_Ky1W3Kz"
      },
      "source": [
        "#####2.2.2 - Train on gradient"
      ]
    },
    {
      "cell_type": "code",
      "metadata": {
        "id": "lK9JNCxOW3K2"
      },
      "source": [
        "# Create the network\r\n",
        "net_type = 'siren'\r\n",
        "training = 'on_gradient'\r\n",
        "net = Siren(n_hidden_layers=HIDDEN_LAYERS, hidden_features=256) # IMPORTANT: 3 layers to compare with SIREN paper results\r\n",
        "model = net.cuda()\r\n",
        "\r\n",
        "# Define optimizer\r\n",
        "optim = torch.optim.Adam(lr=LR, params=model.parameters())\r\n",
        "\r\n",
        "total_steps = TOTAL_STEPS\r\n",
        "steps_til_summary = STEPS_TIL_SUMMARY\r\n",
        "verbose = VERBOSE # True, False\r\n",
        "\r\n",
        "psnrs = []\r\n",
        "ssims = []\r\n",
        "\r\n",
        "for step in range(total_steps+1):\r\n",
        "    model_output, coords = model(model_input)    \r\n",
        "    loss = loss_functions.gradients_mse(model_output, coords, gt['grads'])\r\n",
        "    # psnr = myutils.psnr(model_output, gt['img'])\r\n",
        "    # psnrs.append(psnr)\r\n",
        "    # ssim = myutils.ssim(model_output, gt['img'])\r\n",
        "    # ssims.append(ssim)\r\n",
        "\r\n",
        "    if not step % steps_til_summary:\r\n",
        "        print(\"Step %d, Total loss %0.6f\" % (step, loss))\r\n",
        "        print('GPU Memory occupation: %0.1f / %0.1f GB' % (torch.cuda.memory_allocated(0) / (1024 ** 3), torch.cuda.get_device_properties(0).total_memory / (1024 ** 3)))\r\n",
        "\r\n",
        "        if verbose or step == total_steps:\r\n",
        "            img = model_output.clone()\r\n",
        "            img_grads = myutils.gradient(model_output, coords)\r\n",
        "            img_laplacian = myutils.laplace(model_output, coords)\r\n",
        "\r\n",
        "            img_dict = {\r\n",
        "                'img' : img,\r\n",
        "                'grads' : img_grads,\r\n",
        "                'laplace' : img_laplacian\r\n",
        "            }\r\n",
        "            if step == total_steps:\r\n",
        "                fname = net_type + '_' + str(HIDDEN_LAYERS) + '_layers_' + str(total_steps) + '_' + training + '_' + str(sidelength) + '.png'\r\n",
        "                myutils.plot_all(img_dict, gt, sidelength=sidelength, save=True, fname=fname)\r\n",
        "            else:\r\n",
        "                myutils.plot_all(img_dict, gt, sidelength=sidelength)\r\n",
        "\r\n",
        "    optim.zero_grad()\r\n",
        "    loss.backward()\r\n",
        "    optim.step()\r\n",
        "\r\n",
        "print('Ground truth')\r\n",
        "myutils.plot_all(gt, gt, sidelength=sidelength)\r\n",
        "\r\n",
        "siren_grad = {key: value.cpu().detach() for key, value in img_dict.items()}\r\n",
        "psnr_siren_grad = psnrs\r\n",
        "ssims_siren_grad = ssims"
      ],
      "execution_count": null,
      "outputs": []
    },
    {
      "cell_type": "markdown",
      "metadata": {
        "id": "zrmYe-g4W3K3"
      },
      "source": [
        "#####2.2.3 - Train on laplacian"
      ]
    },
    {
      "cell_type": "code",
      "metadata": {
        "id": "lEJBYgLRW3K6"
      },
      "source": [
        "# Create the network\r\n",
        "net_type = 'siren'\r\n",
        "training = 'on_laplace'\r\n",
        "net = Siren(n_hidden_layers=HIDDEN_LAYERS, hidden_features=256) # IMPORTANT: 3 layers to compare with SIREN paper results\r\n",
        "model = net.cuda()\r\n",
        "\r\n",
        "# Define optimizer\r\n",
        "optim = torch.optim.Adam(lr=LR, params=model.parameters())\r\n",
        "\r\n",
        "total_steps = TOTAL_STEPS\r\n",
        "steps_til_summary = STEPS_TIL_SUMMARY\r\n",
        "verbose = VERBOSE # True, False\r\n",
        "\r\n",
        "psnrs = []\r\n",
        "ssims = []\r\n",
        "\r\n",
        "for step in range(total_steps+1):\r\n",
        "    model_output, coords = model(model_input)    \r\n",
        "    loss = loss_functions.laplace_mse(model_output, coords, gt['laplace'])\r\n",
        "    # psnr = myutils.psnr(model_output, gt['img'])\r\n",
        "    # psnrs.append(psnr)\r\n",
        "    # ssim = myutils.ssim(model_output, gt['img'])\r\n",
        "    # ssims.append(ssim)\r\n",
        "\r\n",
        "    if not step % steps_til_summary:\r\n",
        "        print(\"Step %d, Total loss %0.6f\" % (step, loss))\r\n",
        "        print('GPU Memory occupation: %0.1f / %0.1f GB' % (torch.cuda.memory_allocated(0) / (1024 ** 3), torch.cuda.get_device_properties(0).total_memory / (1024 ** 3)))\r\n",
        "        if verbose or step == total_steps:\r\n",
        "            img = model_output.clone()\r\n",
        "            img_grads = myutils.gradient(model_output, coords)\r\n",
        "            img_laplacian = myutils.laplace(model_output, coords)\r\n",
        "\r\n",
        "            img_dict = {\r\n",
        "                'img' : img,\r\n",
        "                'grads' : img_grads,\r\n",
        "                'laplace' : img_laplacian\r\n",
        "            }\r\n",
        "            if step == total_steps:\r\n",
        "                fname = net_type + '_' + str(HIDDEN_LAYERS) + '_layers_' + str(total_steps) + '_' + training + '_' + str(sidelength) + '.png'\r\n",
        "                myutils.plot_all(img_dict, gt, sidelength=sidelength, save=True, fname=fname)\r\n",
        "            else:\r\n",
        "                myutils.plot_all(img_dict, gt, sidelength=sidelength)\r\n",
        "\r\n",
        "    optim.zero_grad()\r\n",
        "    loss.backward()\r\n",
        "    optim.step()\r\n",
        "\r\n",
        "\r\n",
        "print('Ground truth')\r\n",
        "myutils.plot_all(gt, gt, sidelength=sidelength)\r\n",
        "\r\n",
        "siren_lapl = {key: value.cpu().detach() for key, value in img_dict.items()}\r\n",
        "psnr_siren_lapl = psnrs\r\n",
        "ssims_siren_lapl = ssims"
      ],
      "execution_count": null,
      "outputs": []
    },
    {
      "cell_type": "markdown",
      "metadata": {
        "id": "8F2wHa-daLT_"
      },
      "source": [
        "#3 - Compare with ReLU"
      ]
    },
    {
      "cell_type": "markdown",
      "metadata": {
        "id": "kBc74xGxaRqz"
      },
      "source": [
        "###3.1 - Prepare data"
      ]
    },
    {
      "cell_type": "code",
      "metadata": {
        "id": "2bW2Q3eOaFuy"
      },
      "source": [
        "dataset = PoissonEqn(sidelength)\r\n",
        "dataloader = DataLoader(dataset, batch_size=1, pin_memory=True, num_workers=0)\r\n",
        "\r\n",
        "model_input, gt = next(iter(dataloader))\r\n",
        "gt = {key: value.cuda() for key, value in gt.items()}\r\n",
        "model_input = model_input.cuda()"
      ],
      "execution_count": null,
      "outputs": []
    },
    {
      "cell_type": "markdown",
      "metadata": {
        "id": "MERz1RyXahgM"
      },
      "source": [
        "###3.2 - Train on image"
      ]
    },
    {
      "cell_type": "code",
      "metadata": {
        "id": "Z8Ss8tXRaxkQ"
      },
      "source": [
        "# Create the network\r\n",
        "net_type = 'relu'\r\n",
        "training = 'on_image'\r\n",
        "net = Relu(n_hidden_layers=HIDDEN_LAYERS, hidden_features=256) # IMPORTANT: 3 layers to compare with SIREN paper results\r\n",
        "model = net.cuda()\r\n",
        "\r\n",
        "# Define optimizer\r\n",
        "optim = torch.optim.Adam(lr=LR, params=model.parameters())\r\n",
        "\r\n",
        "total_steps = TOTAL_STEPS\r\n",
        "steps_til_summary = STEPS_TIL_SUMMARY\r\n",
        "verbose = VERBOSE # True, False\r\n",
        "\r\n",
        "psnrs = []\r\n",
        "ssims = []\r\n",
        "\r\n",
        "for step in range(total_steps+1):\r\n",
        "    model_output, coords = model(model_input)    \r\n",
        "    loss = loss_functions.image_mse(model_output, coords, gt['img'])\r\n",
        "    psnr = myutils.psnr(model_output, gt['img'])\r\n",
        "    psnrs.append(psnr)\r\n",
        "    ssim = myutils.ssim(model_output, gt['img'])\r\n",
        "    ssims.append(ssim)\r\n",
        "\r\n",
        "    if not step % steps_til_summary:\r\n",
        "        print(\"Step %d, Total loss %0.6f\" % (step, loss))\r\n",
        "        print('GPU Memory occupation: %0.1f / %0.1f GB' % (torch.cuda.memory_allocated(0) / (1024 ** 3), torch.cuda.get_device_properties(0).total_memory / (1024 ** 3)))\r\n",
        "        \r\n",
        "        if verbose or step == total_steps:\r\n",
        "            img = model_output.clone()\r\n",
        "            img_grads = myutils.gradient(model_output, coords)\r\n",
        "            img_laplacian = myutils.laplace(model_output, coords)\r\n",
        "\r\n",
        "            img_dict = {\r\n",
        "                'img' : img,\r\n",
        "                'grads' : img_grads,\r\n",
        "                'laplace' : img_laplacian\r\n",
        "            }\r\n",
        "            if step == total_steps:\r\n",
        "                fname = net_type + '_' + str(HIDDEN_LAYERS) + '_layers_' + str(total_steps) + '_' + training + '_' + str(sidelength) + '.png'\r\n",
        "                myutils.plot_all(img_dict, gt, sidelength=sidelength, save=True, fname=fname)\r\n",
        "            else:\r\n",
        "                myutils.plot_all(img_dict, gt, sidelength=sidelength)\r\n",
        "\r\n",
        "    optim.zero_grad()\r\n",
        "    loss.backward()\r\n",
        "    optim.step()\r\n",
        "\r\n",
        "print('Ground truth')\r\n",
        "myutils.plot_all(gt, gt, sidelength=sidelength)\r\n",
        "\r\n",
        "relu_image = {key: value.cpu().detach() for key, value in img_dict.items()}\r\n",
        "psnr_relu_image = psnrs\r\n",
        "ssims_relu_image = ssims"
      ],
      "execution_count": null,
      "outputs": []
    },
    {
      "cell_type": "markdown",
      "metadata": {
        "id": "OGkhMOqbCH98"
      },
      "source": [
        "###3.3 - Prepare data"
      ]
    },
    {
      "cell_type": "code",
      "metadata": {
        "id": "u5bB1cgRCH-A"
      },
      "source": [
        "dataset = PoissonEqn(sidelength, img_type='starfish')\r\n",
        "dataloader = DataLoader(dataset, batch_size=1, pin_memory=True, num_workers=0)\r\n",
        "\r\n",
        "model_input, gt = next(iter(dataloader))\r\n",
        "gt['grads'] *= 10\r\n",
        "gt = {key: value.cuda() for key, value in gt.items()}\r\n",
        "model_input = model_input.cuda()"
      ],
      "execution_count": null,
      "outputs": []
    },
    {
      "cell_type": "markdown",
      "metadata": {
        "id": "WlE90cefbPp0"
      },
      "source": [
        "###3.4 - Train on gradient"
      ]
    },
    {
      "cell_type": "code",
      "metadata": {
        "id": "C5OOkkC2bPp8"
      },
      "source": [
        "# Create the network\r\n",
        "net_type = 'relu'\r\n",
        "training = 'on_gradient'\r\n",
        "net = Relu(n_hidden_layers=HIDDEN_LAYERS, hidden_features=256) # IMPORTANT: 3 layers to compare with SIREN paper results\r\n",
        "model = net.cuda()\r\n",
        "\r\n",
        "# Define optimizer\r\n",
        "optim = torch.optim.Adam(lr=LR, params=model.parameters())\r\n",
        "\r\n",
        "total_steps = TOTAL_STEPS\r\n",
        "steps_til_summary = STEPS_TIL_SUMMARY\r\n",
        "verbose = VERBOSE # True, False\r\n",
        "\r\n",
        "psnrs = []\r\n",
        "ssims = []\r\n",
        "\r\n",
        "for step in range(total_steps+1):\r\n",
        "    model_output, coords = model(model_input)    \r\n",
        "    loss = loss_functions.gradients_mse(model_output, coords, gt['grads'])\r\n",
        "    # psnr = myutils.psnr(model_output, gt['img'])\r\n",
        "    # psnrs.append(psnr)\r\n",
        "    # ssim = myutils.ssim(model_output, gt['img'])\r\n",
        "    # ssims.append(ssim)\r\n",
        "\r\n",
        "    if not step % steps_til_summary:\r\n",
        "        print(\"Step %d, Total loss %0.6f\" % (step, loss))\r\n",
        "        print('GPU Memory occupation: %0.1f / %0.1f GB' % (torch.cuda.memory_allocated(0) / (1024 ** 3), torch.cuda.get_device_properties(0).total_memory / (1024 ** 3)))\r\n",
        "\r\n",
        "        if verbose or step == total_steps:\r\n",
        "            img = model_output.clone()\r\n",
        "            img_grads = myutils.gradient(model_output, coords)\r\n",
        "            img_laplacian = myutils.laplace(model_output, coords)\r\n",
        "\r\n",
        "            img_dict = {\r\n",
        "                'img' : img,\r\n",
        "                'grads' : img_grads,\r\n",
        "                'laplace' : img_laplacian\r\n",
        "            }\r\n",
        "            if step == total_steps:\r\n",
        "                fname = net_type + '_' + str(HIDDEN_LAYERS) + '_layers_' + str(total_steps) + '_' + training + '_' + str(sidelength) + '.png'\r\n",
        "                myutils.plot_all(img_dict, gt, sidelength=sidelength, save=True, fname=fname)\r\n",
        "            else:\r\n",
        "                myutils.plot_all(img_dict, gt, sidelength=sidelength)\r\n",
        "\r\n",
        "    optim.zero_grad()\r\n",
        "    loss.backward()\r\n",
        "    optim.step()\r\n",
        "\r\n",
        "print('Ground truth')\r\n",
        "myutils.plot_all(gt, gt, sidelength=sidelength)\r\n",
        "\r\n",
        "relu_grad = {key: value.cpu().detach() for key, value in img_dict.items()}\r\n",
        "psnr_relu_grad = psnrs\r\n",
        "ssims_relu_grad = ssims"
      ],
      "execution_count": null,
      "outputs": []
    },
    {
      "cell_type": "markdown",
      "metadata": {
        "id": "UYtSnlHqC30O"
      },
      "source": [
        "#Collect and compare results"
      ]
    },
    {
      "cell_type": "code",
      "metadata": {
        "id": "8M9WMV-8C4P4"
      },
      "source": [
        "# SIREN vs ReLU PSNR\r\n",
        "psnr_data = {'SIREN' : psnr_siren_image, 'ReLU' : psnr_relu_image}\r\n",
        "myutils.plot_psnrs(psnr_data, TOTAL_STEPS, 'SIREN vs ReLU', save=True, fname='psnr_siren_vs_relu_2_layers_15000_on_image_256.png')\r\n",
        "\r\n",
        "# (GT, SIREN, ReLU) x (image, gradient, laplace)\r\n",
        "myutils.print_fitting_grid(gt_cameraman, siren_image, relu_image, psnr_siren_image[-1], psnr_relu_image[-1], sidelength=sidelength)\r\n",
        "\r\n",
        "# (GT, GRAD(ReLU), GRAD(SIREN), LAPL(SIREN)) x (image, gradient, laplace)\r\n",
        "myutils.print_poisson_grid(gt_starfish, relu_grad, siren_grad, siren_lapl, sidelength=sidelength)"
      ],
      "execution_count": null,
      "outputs": []
    },
    {
      "cell_type": "markdown",
      "metadata": {
        "id": "9ENGSXWZN9aO"
      },
      "source": [
        "#4 - Ablation studies"
      ]
    },
    {
      "cell_type": "markdown",
      "metadata": {
        "id": "lBX70ZGKzx7c"
      },
      "source": [
        "###4.1 - Weights initialization"
      ]
    },
    {
      "cell_type": "markdown",
      "metadata": {
        "id": "yFpVBMYXOCac"
      },
      "source": [
        "####4.1.1 - change weights of the first layer"
      ]
    },
    {
      "cell_type": "markdown",
      "metadata": {
        "id": "oiEy-Xa1OaS-"
      },
      "source": [
        "#####4.1.1.1 - Prepare data"
      ]
    },
    {
      "cell_type": "code",
      "metadata": {
        "id": "mYV8CAMkOUvu"
      },
      "source": [
        "dataset = PoissonEqn(256, gradients=True, laplace=True)\r\n",
        "dataloader = DataLoader(dataset, batch_size=1, pin_memory=True, num_workers=0)\r\n",
        "\r\n",
        "model_input, gt = next(iter(dataloader))\r\n",
        "gt = {key: value.cuda() for key, value in gt.items()}\r\n",
        "model_input = model_input.cuda()"
      ],
      "execution_count": null,
      "outputs": []
    },
    {
      "cell_type": "markdown",
      "metadata": {
        "id": "Ny34-QZ9t0cP"
      },
      "source": [
        "#####4.1.1.2 - PSNR evaluation"
      ]
    },
    {
      "cell_type": "code",
      "metadata": {
        "id": "u9OlEvJ1OnAk"
      },
      "source": [
        "psnr_data = {}\r\n",
        "\r\n",
        "net_type = 'siren'\r\n",
        "\r\n",
        "# Weight initialization of first layer\r\n",
        "init_weights = [[None, \"standard weights\"],\r\n",
        "                [partial(init.kaiming_uniform_, a=0.0, nonlinearity='relu', mode='fan_in'), \"Kaiming Uniform\"],\r\n",
        "                [partial(init.kaiming_normal_, a=0.0, nonlinearity='relu', mode='fan_in'), \"Kaiming Normal\"],\r\n",
        "                [partial(init.uniform_, a=0.0, b=1.0), \"Uniform\"],\r\n",
        "                [partial(init.normal_, mean=0.0, std=1.0), \"Normal\"],\r\n",
        "                [partial(init.xavier_uniform_, gain=1.0), \"Xavier Uniform\"],\r\n",
        "                [partial(init.xavier_normal_, gain=1.0), \"Xavier Normal\"]\r\n",
        "                ]\r\n",
        "\r\n",
        "for weights in init_weights:\r\n",
        "    print(weights[1])\r\n",
        "    psnrs = []\r\n",
        "    \r\n",
        "    net = Siren(n_hidden_layers=3, hidden_features=256)\r\n",
        "    \r\n",
        "    if weights[0] is not None:\r\n",
        "        weights[0](net.net[0].linear.weight)\r\n",
        "\r\n",
        "    model = net.cuda()\r\n",
        "\r\n",
        "    # Define optimizer\r\n",
        "    optim = torch.optim.Adam(lr=1e-4, params=model.parameters())\r\n",
        "\r\n",
        "    total_steps = 1000\r\n",
        "    steps_til_summary = STEPS_TIL_SUMMARY\r\n",
        "    verbose = VERBOSE # True, False\r\n",
        "\r\n",
        "    for step in range(total_steps+1):\r\n",
        "        model_output, coords = model(model_input)    \r\n",
        "        loss = loss_functions.image_mse(model_output, coords, gt['img'])\r\n",
        "        psnr = myutils.psnr(model_output, gt['img'])\r\n",
        "        psnrs.append(psnr)\r\n",
        "        if not step % steps_til_summary:\r\n",
        "            print(\"Step %d, Total loss %0.6f\" % (step, loss))\r\n",
        "            if verbose or step == total_steps:\r\n",
        "                img = model_output.clone()\r\n",
        "                img_grads = myutils.sobel_filter(model_output.clone())\r\n",
        "                img_laplacian = myutils.laplace_filter(model_output.clone())\r\n",
        "\r\n",
        "                img_dict = {\r\n",
        "                    'img' : img,\r\n",
        "                    'grads' : img_grads,\r\n",
        "                    'laplace' : img_laplacian\r\n",
        "                }\r\n",
        "                if step == total_steps:\r\n",
        "                    fname = net_type + '_' + str(HIDDEN_LAYERS) + '_layers_' + str(total_steps) + '_' + weights[1] + '_' + str(sidelength) + '.png'\r\n",
        "                    myutils.plot_all(img_dict, gt, sidelength=sidelength, save=True, fname=fname)\r\n",
        "                else:\r\n",
        "                    myutils.plot_all(img_dict, gt, sidelength=sidelength)\r\n",
        "\r\n",
        "        optim.zero_grad()\r\n",
        "        loss.backward()\r\n",
        "        optim.step()\r\n",
        "\r\n",
        "    psnr_data[weights[1]] = psnrs\r\n",
        "\r\n",
        "myutils.plot_psnrs(psnr_data, total_steps, 'init weights', save=True, fname='psnr_siren_2_layers_2000_256_first_layer_initialization.png')"
      ],
      "execution_count": null,
      "outputs": []
    },
    {
      "cell_type": "markdown",
      "metadata": {
        "id": "aAk4DueRuEOb"
      },
      "source": [
        "#####4.1.1.3 - Layer activation evaluation"
      ]
    },
    {
      "cell_type": "code",
      "metadata": {
        "id": "m4_pfGwCuO-m"
      },
      "source": [
        "# Distribution configuration\r\n",
        "distribution = None\r\n",
        "# distribution = [partial(init.kaiming_uniform_, a=0.0, nonlinearity='relu', mode='fan_in'), \"Kaiming Uniform\"]\r\n",
        "# distribution = [partial(init.kaiming_normal_, a=0.0, nonlinearity='relu', mode='fan_in'), \"Kaiming Normal\"]\r\n",
        "# distribution = [partial(init.uniform_, a=0.0), \"Uniform\"]\r\n",
        "# distribution = [partial(init.normal_, mean=0.0), \"Normal\"]\r\n",
        "# distribution = [partial(init.xavier_uniform_, gain=1.0), \"Xavier Uniform\"]\r\n",
        "# distribution = [partial(init.xavier_normal_, gain=1.0), \"Xavier Normal\"]\r\n",
        "\r\n",
        "model = Siren(n_hidden_layers=HIDDEN_LAYERS, outermost_linear=True, with_activations=True) # with_activation = True so that the number of features is automatically set\r\n",
        "if distribution is not None:\r\n",
        "  distribution[0](model.net[0].linear.weight)\r\n",
        "  title = \"SIREN first layer initialized with \" + distribution[1]\r\n",
        "else:\r\n",
        "  title = \"SIREN first layer initialized with standard weights\"\r\n",
        "model = model.cuda()\r\n",
        "activations = model.forward_with_activations(model_input) # Calling forward with activation in order to return activation to plot\r\n",
        "myutils.plot_all_activations_and_grads(activations, title=title)"
      ],
      "execution_count": null,
      "outputs": []
    },
    {
      "cell_type": "markdown",
      "metadata": {
        "id": "2s52zrDmPlK9"
      },
      "source": [
        "####4.1.2 - change weights of the hidden layers"
      ]
    },
    {
      "cell_type": "markdown",
      "metadata": {
        "id": "pg2SukbY0jrt"
      },
      "source": [
        "#####4.1.2.1 - Prepare data"
      ]
    },
    {
      "cell_type": "code",
      "metadata": {
        "id": "UNWDCZUJ0jr6"
      },
      "source": [
        "dataset = PoissonEqn(256, gradients=True, laplace=True)\r\n",
        "dataloader = DataLoader(dataset, batch_size=1, pin_memory=True, num_workers=0)\r\n",
        "\r\n",
        "model_input, gt = next(iter(dataloader))\r\n",
        "gt = {key: value.cuda() for key, value in gt.items()}\r\n",
        "model_input = model_input.cuda()"
      ],
      "execution_count": null,
      "outputs": []
    },
    {
      "cell_type": "markdown",
      "metadata": {
        "id": "e8Kc_7lo1Ir6"
      },
      "source": [
        "#####4.1.2.2 - PSNR evaluation"
      ]
    },
    {
      "cell_type": "code",
      "metadata": {
        "id": "lEfkYwcHPzur"
      },
      "source": [
        "psnr_data = {}\r\n",
        "\r\n",
        "net_type = 'siren'\r\n",
        "layers = 3\r\n",
        "\r\n",
        "# Weight initialization of first layer\r\n",
        "init_weights = [[None, \"standard weights\"],\r\n",
        "                [partial(init.uniform_), \"Uniform\"],\r\n",
        "                [partial(init.normal_), \"Normal\"],\r\n",
        "                [partial(init.kaiming_uniform_, a=0.0, nonlinearity='relu', mode='fan_in'), \"Kaiming Uniform\"],\r\n",
        "                [partial(init.kaiming_normal_, a=0.0, nonlinearity='relu', mode='fan_in'), \"Kaiming Normal\"],\r\n",
        "                [partial(init.xavier_uniform_, gain=1.0), \"Xavier Uniform\"],\r\n",
        "                [partial(init.xavier_normal_, gain=1.0), \"Xavier Normal\"]\r\n",
        "                ]\r\n",
        "\r\n",
        "for weights in init_weights:\r\n",
        "    print(weights[1])\r\n",
        "    psnrs = []\r\n",
        "    \r\n",
        "    net = Siren(n_hidden_layers=layers, hidden_features=256)\r\n",
        "\r\n",
        "    if weights[0] is not None:\r\n",
        "        for l in range(1, layers+1):\r\n",
        "            weights[0](net.net[l].linear.weight)\r\n",
        "\r\n",
        "    model = net.cuda()\r\n",
        "\r\n",
        "    # Define optimizer\r\n",
        "    optim = torch.optim.Adam(lr=1e-4, params=model.parameters())\r\n",
        "\r\n",
        "    total_steps = 1000\r\n",
        "    steps_til_summary = STEPS_TIL_SUMMARY\r\n",
        "    verbose = VERBOSE # True, False\r\n",
        "\r\n",
        "    for step in range(total_steps+1):\r\n",
        "        model_output, coords = model(model_input)    \r\n",
        "        loss = loss_functions.image_mse(model_output, coords, gt['img'])\r\n",
        "        psnr = myutils.psnr(model_output, gt['img'])\r\n",
        "        psnrs.append(psnr)\r\n",
        "        if not step % steps_til_summary:\r\n",
        "            print(\"Step %d, Total loss %0.6f\" % (step, loss))\r\n",
        "            if verbose or step == total_steps:\r\n",
        "                img = model_output.clone()\r\n",
        "                img_grads = myutils.sobel_filter(model_output.clone())\r\n",
        "                img_laplacian = myutils.laplace_filter(model_output.clone())\r\n",
        "\r\n",
        "                img_dict = {\r\n",
        "                    'img' : img,\r\n",
        "                    'grads' : img_grads,\r\n",
        "                    'laplace' : img_laplacian\r\n",
        "                }\r\n",
        "                if step == total_steps:\r\n",
        "                    fname = net_type + '_' + str(HIDDEN_LAYERS) + '_layers_' + str(total_steps) + '_' + weights[1] + '_' + str(sidelength) + '.png'\r\n",
        "                    myutils.plot_all(img_dict, gt, sidelength=sidelength, save=True, fname=fname)\r\n",
        "                else:\r\n",
        "                    myutils.plot_all(img_dict, gt, sidelength=sidelength)\r\n",
        "\r\n",
        "        optim.zero_grad()\r\n",
        "        loss.backward()\r\n",
        "        optim.step()\r\n",
        "\r\n",
        "    psnr_data[weights[1]] = psnrs\r\n",
        "\r\n",
        "myutils.plot_psnrs(psnr_data, total_steps, 'init weights', save=True, fname='psnr_siren_2_layers_1000_256_hidden_layer_initialization.png')"
      ],
      "execution_count": null,
      "outputs": []
    },
    {
      "cell_type": "markdown",
      "metadata": {
        "id": "e_mAy1EK1l8y"
      },
      "source": [
        "#####4.1.2.3 - Layer activation evaluation"
      ]
    },
    {
      "cell_type": "code",
      "metadata": {
        "id": "8w8b0QNc1l84"
      },
      "source": [
        "# Distribution configuration\r\n",
        "# distribution = None\r\n",
        "distribution = [partial(init.kaiming_uniform_, a=0.0, nonlinearity='relu', mode='fan_in'), \"Kaiming Uniform\"]\r\n",
        "# distribution = [partial(init.kaiming_normal_, a=0.0, nonlinearity='relu', mode='fan_in'), \"Kaiming Normal\"]\r\n",
        "# distribution = [partial(init.uniform_, a=0.0), \"Uniform\"]\r\n",
        "# distribution = [partial(init.normal_, mean=0.0), \"Normal\"]\r\n",
        "# distribution = [partial(init.xavier_uniform_, gain=1.0), \"Xavier Uniform\"]\r\n",
        "# distribution = [partial(init.xavier_normal_, gain=1.0), \"Xavier Normal\"]\r\n",
        "\r\n",
        "model = Siren(n_hidden_layers=HIDDEN_LAYERS, outermost_linear=True, with_activations=True) # with_activation = True so that the number of features is automatically set\r\n",
        "if distribution is not None:\r\n",
        "  for l in range(1, HIDDEN_LAYERS+1):\r\n",
        "    distribution[0](model.net[l].linear.weight)\r\n",
        "  title = \"SIREN hidden layers initialized with \" + distribution[1]\r\n",
        "else:\r\n",
        "  title = \"SIREN hidden layers initialized with standard weights\"\r\n",
        "model = model.cuda()\r\n",
        "activations = model.forward_with_activations(model_input) # Calling forward with activation in order to return activation to plot\r\n",
        "myutils.plot_all_activations_and_grads(activations, title=title)"
      ],
      "execution_count": null,
      "outputs": []
    },
    {
      "cell_type": "markdown",
      "metadata": {
        "id": "qZiM3p3kQqQT"
      },
      "source": [
        "###4.2 - ω0 initialization "
      ]
    },
    {
      "cell_type": "markdown",
      "metadata": {
        "id": "jTQ9lr2oQxSg"
      },
      "source": [
        "#####4.2.1 - Prepare data"
      ]
    },
    {
      "cell_type": "code",
      "metadata": {
        "id": "eje2n6iTQwzg"
      },
      "source": [
        "dataset = PoissonEqn(sidelength)\r\n",
        "dataloader = DataLoader(dataset, batch_size=1, pin_memory=True, num_workers=0)\r\n",
        "\r\n",
        "model_input, gt = next(iter(dataloader))\r\n",
        "gt = {key: value.cuda() for key, value in gt.items()}\r\n",
        "model_input = model_input.cuda()"
      ],
      "execution_count": null,
      "outputs": []
    },
    {
      "cell_type": "markdown",
      "metadata": {
        "id": "TFvKF3ckQ2UW"
      },
      "source": [
        "#####4.2.2 - change ω0 in first layer"
      ]
    },
    {
      "cell_type": "code",
      "metadata": {
        "id": "4hiH8oyERUsz"
      },
      "source": [
        "psnr_data = {}\r\n",
        "first_omega_0 = [\r\n",
        "                 8,\r\n",
        "                 15,\r\n",
        "                 30,\r\n",
        "                 60,\r\n",
        "                 120,\r\n",
        "                 240\r\n",
        "                ]\r\n",
        "\r\n",
        "for w0 in first_omega_0:\r\n",
        "    print(\"w0:\", w0)\r\n",
        "    # Create the network\r\n",
        "    net = Siren(n_hidden_layers=HIDDEN_LAYERS, hidden_features=256, first_omega_0=w0, hidden_omega_0=30)\r\n",
        "    model = net.cuda()\r\n",
        "\r\n",
        "    # Define optimizer\r\n",
        "    optim = torch.optim.Adam(lr=1e-4, params=model.parameters())\r\n",
        "    total_steps = 1000\r\n",
        "    steps_til_summary = 100\r\n",
        "\r\n",
        "    psnrs = []\r\n",
        "\r\n",
        "    for step in range(total_steps+1):\r\n",
        "        model_output, coords = model(model_input)    \r\n",
        "        loss = loss_functions.image_mse(model_output, coords, gt['img'])\r\n",
        "        psnr = myutils.psnr(model_output, gt['img'])\r\n",
        "        psnrs.append(psnr)\r\n",
        "        if not step % steps_til_summary:\r\n",
        "            print(\"Step %d, Total loss %0.6f\" % (step, loss))\r\n",
        "\r\n",
        "        optim.zero_grad()\r\n",
        "        loss.backward()\r\n",
        "        optim.step()\r\n",
        "\r\n",
        "    psnr_data[str(w0)] = psnrs\r\n",
        "\r\n",
        "myutils.plot_psnrs(psnr_data, total_steps, 'w0 in first layer', save=True, fname='psnr_w0_first_layer_1000_10_layers.png')"
      ],
      "execution_count": null,
      "outputs": []
    },
    {
      "cell_type": "markdown",
      "metadata": {
        "id": "rfq8fE1gRVCG"
      },
      "source": [
        "#####4.2.3 - change ω0 in hidden layers"
      ]
    },
    {
      "cell_type": "code",
      "metadata": {
        "id": "DJA5Y7ESRclT"
      },
      "source": [
        "psnr_data = {}\r\n",
        "hidden_omega_0 = [\r\n",
        "                  8,\r\n",
        "                  15,\r\n",
        "                  30,\r\n",
        "                  60,\r\n",
        "                  120,\r\n",
        "                  240\r\n",
        "                  ]\r\n",
        "\r\n",
        "for w0 in hidden_omega_0:\r\n",
        "    print(\"w0:\", w0)\r\n",
        "    # Create the network\r\n",
        "    net = Siren(n_hidden_layers=HIDDEN_LAYERS, hidden_features=256, first_omega_0=30, hidden_omega_0=w0)\r\n",
        "    model = net.cuda()\r\n",
        "\r\n",
        "    # Define optimizer\r\n",
        "    optim = torch.optim.Adam(lr=1e-4, params=model.parameters())\r\n",
        "    total_steps = 1000\r\n",
        "    steps_til_summary = 100\r\n",
        "\r\n",
        "    psnrs = []\r\n",
        "\r\n",
        "    for step in range(total_steps+1):\r\n",
        "        model_output, coords = model(model_input)    \r\n",
        "        loss = loss_functions.image_mse(model_output, coords, gt['img'])\r\n",
        "        psnr = myutils.psnr(model_output, gt['img'])\r\n",
        "        psnrs.append(psnr)\r\n",
        "        if not step % steps_til_summary:\r\n",
        "            print(\"Step %d, Total loss %0.6f\" % (step, loss))\r\n",
        "\r\n",
        "        optim.zero_grad()\r\n",
        "        loss.backward()\r\n",
        "        optim.step()\r\n",
        "\r\n",
        "    psnr_data[str(w0)] = psnrs\r\n",
        "\r\n",
        "myutils.plot_psnrs(psnr_data, total_steps, 'w0 in hidden layers', save=True, fname='psnr_w0_hidden_layers_1000_2_layers.png')"
      ],
      "execution_count": null,
      "outputs": []
    },
    {
      "cell_type": "markdown",
      "metadata": {
        "id": "qi5UD8OCRc40"
      },
      "source": [
        "#####4.2.4 - change ω0 in all the layers"
      ]
    },
    {
      "cell_type": "code",
      "metadata": {
        "id": "MBhtQbLxRiTL"
      },
      "source": [
        "psnr_data = {}\r\n",
        "omega_0 = [\r\n",
        "          8,\r\n",
        "          15,\r\n",
        "          30,\r\n",
        "          60,\r\n",
        "          120,\r\n",
        "          240\r\n",
        "          ]\r\n",
        "\r\n",
        "for w0 in omega_0:\r\n",
        "    print(\"w0:\", w0)\r\n",
        "    # Create the network\r\n",
        "    net = Siren(n_hidden_layers=HIDDEN_LAYERS, hidden_features=256, first_omega_0=w0, hidden_omega_0=w0)\r\n",
        "    model = net.cuda()\r\n",
        "\r\n",
        "    # Define optimizer\r\n",
        "    optim = torch.optim.Adam(lr=1e-4, params=model.parameters())\r\n",
        "    total_steps = 1000\r\n",
        "    steps_til_summary = 100\r\n",
        "\r\n",
        "    psnrs = []\r\n",
        "\r\n",
        "    for step in range(total_steps+1):\r\n",
        "        model_output, coords = model(model_input)    \r\n",
        "        loss = loss_functions.image_mse(model_output, coords, gt['img'])\r\n",
        "        psnr = myutils.psnr(model_output, gt['img'])\r\n",
        "        psnrs.append(psnr)\r\n",
        "        if not step % steps_til_summary:\r\n",
        "            print(\"Step %d, Total loss %0.6f\" % (step, loss))\r\n",
        "\r\n",
        "        optim.zero_grad()\r\n",
        "        loss.backward()\r\n",
        "        optim.step()\r\n",
        "\r\n",
        "    psnr_data[str(w0)] = psnrs\r\n",
        "\r\n",
        "myutils.plot_psnrs(psnr_data, total_steps, 'All layers $ω_0$ initialization with 8 layers', save=True, fname='psnr_w0_all_layers_1000_8_layers.png')"
      ],
      "execution_count": null,
      "outputs": []
    },
    {
      "cell_type": "markdown",
      "metadata": {
        "id": "KQTo_JiF9XPq"
      },
      "source": [
        "# 5 - SISR"
      ]
    },
    {
      "cell_type": "markdown",
      "metadata": {
        "id": "H7UgZQss9ttM"
      },
      "source": [
        "### 5.1 - Define SISR config"
      ]
    },
    {
      "cell_type": "code",
      "metadata": {
        "id": "fRb_onmV-pPH"
      },
      "source": [
        "import box\n",
        "import PIL\n",
        "from torchvision.utils import save_image\n",
        "from torchvision.transforms import Resize, Compose, ToPILImage, ToTensor, Normalize\n",
        "from PIL import Image\n",
        "\n",
        "subsets = {\n",
        "    # 'bicubic_x2' : 'all',\n",
        "    # 'unknown_x2' : 'all',\n",
        "    # 'bicubic_x3' : 'all',\n",
        "    # 'unknown_x3' : 'all',\n",
        "    # 'bicubic_x4' : 'all',\n",
        "    # 'unknown_x4' : 'all',\n",
        "    # 'bicubic_x8' : 'all',\n",
        "    # 'mild_x4' : 'all',\n",
        "    # 'difficult_x4' : 'all',\n",
        "    # 'wild_x4' : 'all',\n",
        "    'HR_images' : 'train',\n",
        "    }\n",
        "\n",
        "# max cameramen image = 512x512\n",
        "# max starfish image = 481x321\n",
        "# 224: avoid VVG loss interpolation\n",
        "lr_sidelength = 128 # 128, 224\n",
        "hr_sidelength = 512 # 256, 512\n",
        "\n",
        "dataset_type = 'skimage' # skimage, div2k\n",
        "\n",
        "# Choose image type for skimage\n",
        "img_type = 'cameraman' # cameraman, starfish\n",
        "\n",
        "# Choose index for DIV2K\n",
        "div2k_index = 28\n",
        "\n",
        "# Config the network\n",
        "LR = 1e-4\n",
        "HIDDEN_LAYERS = 3 # 2, 3, 5, 10\n",
        "HIDDEN_FEATURES = 256 # 256, 512\n",
        "VERBOSE = False\n",
        "TOTAL_STEPS = 500 # 500, 1000\n",
        "STEPS_TIL_SUMMARY = TOTAL_STEPS*0.1\n",
        "\n",
        "idx_recommended = [\n",
        "    2,      # palma\n",
        "    21,     # paesaggio\n",
        "    28,     # affreschi\n",
        "    33,     # carrozza\n",
        "    49,     # quadro contemporaneo\n",
        "    51,     # città\n",
        "    68,     # donna\n",
        "    82,     # paesaggio con fiume\n",
        "    89,     # uomo\n",
        "    109,    # asiatici\n",
        "    143,    # auto\n",
        "    159,    # verdura\n",
        "    177,    # cammelli\n",
        "    181,    # tempio\n",
        "]\n",
        "idx_to_sample = [div2k_index] # only the first one will be considered"
      ],
      "execution_count": null,
      "outputs": []
    },
    {
      "cell_type": "markdown",
      "metadata": {
        "id": "k1ZNDZu8_3jV"
      },
      "source": [
        "### 5.2 - Prepare Dataset and Dataloader"
      ]
    },
    {
      "cell_type": "code",
      "metadata": {
        "id": "EZlNs7T__7jN"
      },
      "source": [
        "if dataset_type == 'skimage':\n",
        "    lr_dataset = PoissonEqn(lr_sidelength, img_type=img_type, gradients=False, laplace=False)\n",
        "    hr_dataset = PoissonEqn(hr_sidelength, img_type=img_type, gradients=False, laplace=False)\n",
        "elif dataset_type == 'div2k':\n",
        "    if not os.path.isdir('data/DIV2K'):\n",
        "        DIV2K_loader.DIV2KImport(sets=subsets)\n",
        "    lr_dataset = DIV2KImageDataset(subsets=subsets, sidelength=lr_sidelength ,transform=default_transform(lr_sidelength), idx_to_sample=idx_to_sample, with_coords=True)\n",
        "    hr_dataset = DIV2KImageDataset(subsets=subsets, sidelength=hr_sidelength, transform=default_transform(hr_sidelength), idx_to_sample=idx_to_sample, with_coords=True)\n",
        "else:\n",
        "    raise Exception('Unexpected dataset type') \n",
        "\n",
        "lr_dataloader = DataLoader(lr_dataset, batch_size=1, pin_memory=True, num_workers=0)\n",
        "\n",
        "model_input, gt = next(iter(lr_dataloader))\n",
        "gt = {key: value.cuda() for key, value in gt.items()}\n",
        "model_input = model_input.cuda()\n",
        "\n",
        "hr_dataloader = DataLoader(hr_dataset, batch_size=1, pin_memory=True, num_workers=0)\n",
        "\n",
        "hr_grid, hr_gt = next(iter(hr_dataloader))\n",
        "gt_sisr = hr_gt['img']\n",
        "gt_lr_sisr = gt['img']\n",
        "hr_gt = {key: value.cuda() for key, value in hr_gt.items()}\n",
        "hr_grid = hr_grid.cuda()"
      ],
      "execution_count": null,
      "outputs": []
    },
    {
      "cell_type": "markdown",
      "metadata": {
        "id": "e0KywIQX9bbr"
      },
      "source": [
        "### 5.3 - Classic SIREN"
      ]
    },
    {
      "cell_type": "code",
      "metadata": {
        "id": "AunR_KzCAOCX"
      },
      "source": [
        "# Create the network\n",
        "siren_net = Siren(n_hidden_layers=HIDDEN_LAYERS, hidden_features=HIDDEN_FEATURES)\n",
        "model = siren_net.cuda()\n",
        "\n",
        "# Define optimizer\n",
        "optim = torch.optim.Adam(lr=LR, params=model.parameters())\n",
        "\n",
        "total_steps = TOTAL_STEPS\n",
        "steps_til_summary = STEPS_TIL_SUMMARY\n",
        "verbose = VERBOSE # True, False\n",
        "\n",
        "psnrs = []\n",
        "ssims = []\n",
        "\n",
        "for step in range(total_steps+1):\n",
        "    model_output, coords = model(model_input)\n",
        "    # SISR\n",
        "    hr_img, _ = model(hr_grid)\n",
        "    loss = loss_functions.image_mse(model_output, coords, gt['img'])\n",
        "\n",
        "    psnrs.append(myutils.img_psnr(hr_img, hr_gt['img'], hr_sidelength))\n",
        "    ssims.append(myutils.img_ssim(hr_img, hr_gt['img'], hr_sidelength))\n",
        "    \n",
        "    if not step % steps_til_summary:\n",
        "        print(\"Step %d, Total loss %0.6f\" % (step, loss))\n",
        "        print('GPU Memory occupation: %0.1f / %0.1f GB' % (torch.cuda.memory_allocated(0) / (1024 ** 3), torch.cuda.get_device_properties(0).total_memory / (1024 ** 3)))\n",
        "        \n",
        "        if verbose or step == total_steps:\n",
        "            _, axes = plt.subplots(1, 3, figsize=(18,6))\n",
        "            axes[0].imshow(gt['img'].cpu().view(lr_sidelength, lr_sidelength).detach().numpy())\n",
        "            axes[0].set_title('GT '+ str(lr_sidelength) + 'x' + str(lr_sidelength))\n",
        "            axes[1].imshow(hr_img.cpu().view(hr_sidelength, hr_sidelength).detach().numpy())\n",
        "            axes[1].set_title('SISR ' + str(lr_sidelength) + ' to ' + str(hr_sidelength))\n",
        "            axes[2].imshow(hr_gt['img'].cpu().view(hr_sidelength, hr_sidelength).detach().numpy())\n",
        "            axes[2].set_title('GT ' + str(hr_sidelength) + 'x' + str(hr_sidelength))\n",
        "            plt.show()\n",
        "\n",
        "    optim.zero_grad()\n",
        "    loss.backward()\n",
        "    optim.step()\n",
        "\n",
        "# Collect data to compare results\n",
        "siren_sisr = hr_img.cpu().detach()\n",
        "psnrs_siren_sisr = psnrs\n",
        "ssims_siren_sisr = ssims\n",
        "psnr_siren_sisr = psnrs[-1]\n",
        "ssim_siren_sisr = ssims[-1]\n",
        "\n",
        "print('PSNR:', psnr_siren_sisr)\n",
        "print('SSIM:', ssim_siren_sisr)"
      ],
      "execution_count": null,
      "outputs": []
    },
    {
      "cell_type": "markdown",
      "metadata": {
        "id": "7R9D0mpP9f_p"
      },
      "source": [
        "### 5.4 - SIREN with VGG loss"
      ]
    },
    {
      "cell_type": "code",
      "metadata": {
        "id": "wHioZts_A2Nm"
      },
      "source": [
        "input = {\n",
        "    'coords' : model_input,\n",
        "    'gt' : gt['img'],\n",
        "    'sidelength' : lr_sidelength\n",
        "}\n",
        "hr_input = {\n",
        "    'coords' : hr_grid,\n",
        "    'gt' : hr_gt['img'],\n",
        "    'sidelength' : hr_sidelength\n",
        "}\n",
        "\n",
        "# Create the network\n",
        "siren_net = Siren(n_hidden_layers=HIDDEN_LAYERS, hidden_features=HIDDEN_FEATURES, with_vgg_loss=True)\n",
        "# siren_net.vgg_loss.resize = False\n",
        "model = siren_net.cuda()\n",
        "\n",
        "# Define optimizer\n",
        "optim = torch.optim.Adam(lr=LR, params=model.parameters())\n",
        "\n",
        "total_steps = TOTAL_STEPS\n",
        "steps_til_summary = STEPS_TIL_SUMMARY\n",
        "verbose = VERBOSE # True, False\n",
        "\n",
        "psnrs = []\n",
        "ssims = []\n",
        "\n",
        "for step in range(total_steps+1):\n",
        "    model_output, coords, loss = model(input)\n",
        "    hr_img, _, _ = model(hr_input)\n",
        "\n",
        "    psnrs.append(myutils.img_psnr(hr_img, hr_gt['img'], hr_sidelength))\n",
        "    ssims.append(myutils.img_ssim(hr_img, hr_gt['img'], hr_sidelength))\n",
        "    \n",
        "    if not step % steps_til_summary:\n",
        "        print(\"Step %d, Total loss %0.6f\" % (step, loss))\n",
        "        print('GPU Memory occupation: %0.1f / %0.1f GB' % (torch.cuda.memory_allocated(0) / (1024 ** 3), torch.cuda.get_device_properties(0).total_memory / (1024 ** 3)))\n",
        "        \n",
        "        if verbose or step == total_steps:\n",
        "            _, axes = plt.subplots(1, 3, figsize=(18,6))\n",
        "            axes[0].imshow(gt['img'].cpu().view(lr_sidelength, lr_sidelength).detach().numpy())\n",
        "            axes[0].set_title('GT '+ str(lr_sidelength) + 'x' + str(lr_sidelength))\n",
        "            axes[1].imshow(hr_img.cpu().view(hr_sidelength, hr_sidelength).detach().numpy())\n",
        "            axes[1].set_title('SISR ' + str(lr_sidelength) + ' to ' + str(hr_sidelength))\n",
        "            axes[2].imshow(hr_gt['img'].cpu().view(hr_sidelength, hr_sidelength).detach().numpy())\n",
        "            axes[2].set_title('GT ' + str(hr_sidelength) + 'x' + str(hr_sidelength))\n",
        "            plt.show()\n",
        "\n",
        "    optim.zero_grad()\n",
        "    loss.backward()\n",
        "    optim.step()\n",
        "\n",
        "# Collect data to compare results\n",
        "siren_vgg_sisr = hr_img.cpu().detach()\n",
        "psnrs_siren_vgg_sisr = psnrs\n",
        "ssims_siren_vgg_sisr = ssims\n",
        "psnr_siren_vgg_sisr = psnrs[-1]\n",
        "ssim_siren_vgg_sisr = ssims[-1]\n",
        "\n",
        "print('PSNR:', psnr_siren_vgg_sisr)\n",
        "print('SSIM:', ssim_siren_vgg_sisr)"
      ],
      "execution_count": null,
      "outputs": []
    },
    {
      "cell_type": "markdown",
      "metadata": {
        "id": "vhNxijv4970U"
      },
      "source": [
        "### 5.5 - SIREN with P.E."
      ]
    },
    {
      "cell_type": "code",
      "metadata": {
        "id": "BkSsyBkfA5TH"
      },
      "source": [
        "sys.path.append('siren/src/include/siren')\n",
        "import modules\n",
        "\n",
        "input = {'coords' : model_input}\n",
        "hr_input = {'coords' : hr_grid}\n",
        "\n",
        "# Create the network\n",
        "siren_net = modules.SingleBVPNet(type='sine', mode='nerf', hidden_features=HIDDEN_FEATURES, num_hidden_layers=HIDDEN_LAYERS, sidelength=lr_sidelength)\n",
        "model = siren_net.cuda()\n",
        "\n",
        "# Define optimizer\n",
        "optim = torch.optim.Adam(lr=LR, params=model.parameters())\n",
        "\n",
        "total_steps = TOTAL_STEPS\n",
        "steps_til_summary = STEPS_TIL_SUMMARY\n",
        "verbose = VERBOSE # True, False\n",
        "\n",
        "psnrs = []\n",
        "ssims = []\n",
        "\n",
        "for step in range(total_steps+1):\n",
        "    model_output = model(input)    \n",
        "    coords = model_output['model_in']\n",
        "    model_output = model_output['model_out']\n",
        "    hr_img = model(hr_input)    \n",
        "    hr_img = hr_img['model_out']\n",
        "    loss = loss_functions.image_mse(model_output, coords, gt['img'])\n",
        "\n",
        "    psnrs.append(myutils.img_psnr(hr_img, hr_gt['img'], hr_sidelength))\n",
        "    ssims.append(myutils.img_ssim(hr_img, hr_gt['img'], hr_sidelength))\n",
        "    \n",
        "    if not step % steps_til_summary:\n",
        "        print(\"Step %d, Total loss %0.6f\" % (step, loss))\n",
        "        print('GPU Memory occupation: %0.1f / %0.1f GB' % (torch.cuda.memory_allocated(0) / (1024 ** 3), torch.cuda.get_device_properties(0).total_memory / (1024 ** 3)))\n",
        "        \n",
        "        if verbose or step == total_steps:\n",
        "            _, axes = plt.subplots(1, 3, figsize=(18,6))\n",
        "            axes[0].imshow(gt['img'].cpu().view(lr_sidelength, lr_sidelength).detach().numpy())\n",
        "            axes[0].set_title('GT '+ str(lr_sidelength) + 'x' + str(lr_sidelength))\n",
        "            axes[1].imshow(hr_img.cpu().view(hr_sidelength, hr_sidelength).detach().numpy())\n",
        "            axes[1].set_title('SISR ' + str(lr_sidelength) + ' to ' + str(hr_sidelength))\n",
        "            axes[2].imshow(hr_gt['img'].cpu().view(hr_sidelength, hr_sidelength).detach().numpy())\n",
        "            axes[2].set_title('GT ' + str(hr_sidelength) + 'x' + str(hr_sidelength))\n",
        "            plt.show()\n",
        "\n",
        "    optim.zero_grad()\n",
        "    loss.backward()\n",
        "    optim.step()\n",
        "\n",
        "# Collect data to compare results\n",
        "siren_nerf_sisr = hr_img.cpu().detach()\n",
        "psnrs_siren_nerf_sisr = psnrs\n",
        "ssims_siren_nerf_sisr = ssims\n",
        "psnr_siren_nerf_sisr = psnrs[-1]\n",
        "ssim_siren_nerf_sisr = ssims[-1]\n",
        "\n",
        "print('PSNR:', psnr_siren_nerf_sisr)\n",
        "print('SSIM:', ssim_siren_nerf_sisr)"
      ],
      "execution_count": null,
      "outputs": []
    },
    {
      "cell_type": "markdown",
      "metadata": {
        "id": "L_nwsc5WpF49"
      },
      "source": [
        "### 5.6 - SIREN with P.E. and VGG loss"
      ]
    },
    {
      "cell_type": "code",
      "metadata": {
        "id": "LAWahxZlpF4-"
      },
      "source": [
        "sys.path.append('siren/src/include/siren')\n",
        "import modules\n",
        "\n",
        "input = {'coords' : model_input}\n",
        "hr_input = {'coords' : hr_grid}\n",
        "\n",
        "# Create the network\n",
        "siren_net = modules.SingleBVPNet(type='sine', mode='nerf', hidden_features=HIDDEN_FEATURES, num_hidden_layers=HIDDEN_LAYERS, sidelength=lr_sidelength)\n",
        "model = siren_net.cuda()\n",
        "\n",
        "loss_fn = loss_functions.VGGPerceptualLoss().cuda()\n",
        "\n",
        "# Define optimizer\n",
        "optim = torch.optim.Adam(lr=LR, params=model.parameters())\n",
        "\n",
        "total_steps = TOTAL_STEPS\n",
        "steps_til_summary = STEPS_TIL_SUMMARY\n",
        "verbose = VERBOSE # True, False\n",
        "\n",
        "psnrs = []\n",
        "ssims = []\n",
        "\n",
        "for step in range(total_steps+1):\n",
        "    model_output = model(input)    \n",
        "    coords = model_output['model_in']\n",
        "    model_output = model_output['model_out']\n",
        "    hr_img = model(hr_input)    \n",
        "    hr_img = hr_img['model_out']\n",
        "\n",
        "    # Adapt images for VGG\n",
        "    _y = model_output.view(lr_sidelength, lr_sidelength).unsqueeze(0).unsqueeze(0)\n",
        "    _gt = gt['img'].view(lr_sidelength, lr_sidelength).unsqueeze(0).unsqueeze(0)\n",
        "    loss = loss_fn(_y, _gt)\n",
        "\n",
        "    psnrs.append(myutils.img_psnr(hr_img, hr_gt['img'], hr_sidelength))\n",
        "    ssims.append(myutils.img_ssim(hr_img, hr_gt['img'], hr_sidelength))\n",
        "    \n",
        "    if not step % steps_til_summary:\n",
        "        print(\"Step %d, Total loss %0.6f\" % (step, loss))\n",
        "        print('GPU Memory occupation: %0.1f / %0.1f GB' % (torch.cuda.memory_allocated(0) / (1024 ** 3), torch.cuda.get_device_properties(0).total_memory / (1024 ** 3)))\n",
        "        \n",
        "        if verbose or step == total_steps:\n",
        "            _, axes = plt.subplots(1, 3, figsize=(18,6))\n",
        "            axes[0].imshow(gt['img'].cpu().view(lr_sidelength, lr_sidelength).detach().numpy())\n",
        "            axes[0].set_title('GT '+ str(lr_sidelength) + 'x' + str(lr_sidelength))\n",
        "            axes[1].imshow(hr_img.cpu().view(hr_sidelength, hr_sidelength).detach().numpy())\n",
        "            axes[1].set_title('SISR ' + str(lr_sidelength) + ' to ' + str(hr_sidelength))\n",
        "            axes[2].imshow(hr_gt['img'].cpu().view(hr_sidelength, hr_sidelength).detach().numpy())\n",
        "            axes[2].set_title('GT ' + str(hr_sidelength) + 'x' + str(hr_sidelength))\n",
        "            plt.show()\n",
        "\n",
        "    optim.zero_grad()\n",
        "    loss.backward()\n",
        "    optim.step()\n",
        "\n",
        "# Collect data to compare results\n",
        "siren_nerf_vgg_sisr = hr_img.cpu().detach()\n",
        "psnrs_siren_nerf_vgg_sisr = psnrs\n",
        "ssims_siren_nerf_vgg_sisr = ssims\n",
        "psnr_siren_nerf_vgg_sisr = psnrs[-1]\n",
        "ssim_siren_nerf_vgg_sisr = ssims[-1]\n",
        "\n",
        "print('PSNR:', psnr_siren_nerf_vgg_sisr)\n",
        "print('SSIM:', ssim_siren_nerf_vgg_sisr)"
      ],
      "execution_count": null,
      "outputs": []
    },
    {
      "cell_type": "markdown",
      "metadata": {
        "id": "PObpForRqB46"
      },
      "source": [
        "### 5.7 - ReLU with P.E."
      ]
    },
    {
      "cell_type": "code",
      "metadata": {
        "id": "Z7CquXiMqFgC"
      },
      "source": [
        "sys.path.append('siren/src/include/siren')\n",
        "import modules\n",
        "\n",
        "input = {'coords' : model_input}\n",
        "hr_input = {'coords' : hr_grid}\n",
        "\n",
        "# Create the network\n",
        "relu_net = modules.SingleBVPNet(type='relu', mode='nerf', hidden_features=HIDDEN_FEATURES, num_hidden_layers=HIDDEN_LAYERS, sidelength=lr_sidelength)\n",
        "model = relu_net.cuda()\n",
        "\n",
        "# Define optimizer\n",
        "optim = torch.optim.Adam(lr=LR, params=model.parameters())\n",
        "\n",
        "total_steps = TOTAL_STEPS\n",
        "steps_til_summary = STEPS_TIL_SUMMARY\n",
        "verbose = VERBOSE # True, False\n",
        "\n",
        "psnrs = []\n",
        "ssims = []\n",
        "\n",
        "for step in range(total_steps+1):\n",
        "    model_output = model(input)    \n",
        "    coords = model_output['model_in']\n",
        "    model_output = model_output['model_out']\n",
        "    hr_img = model(hr_input)    \n",
        "    hr_img = hr_img['model_out']\n",
        "    loss = loss_functions.image_mse(model_output, coords, gt['img'])\n",
        "\n",
        "    psnrs.append(myutils.img_psnr(hr_img, hr_gt['img'], hr_sidelength))\n",
        "    ssims.append(myutils.img_ssim(hr_img, hr_gt['img'], hr_sidelength))\n",
        "    \n",
        "    if not step % steps_til_summary:\n",
        "        print(\"Step %d, Total loss %0.6f\" % (step, loss))\n",
        "        print('GPU Memory occupation: %0.1f / %0.1f GB' % (torch.cuda.memory_allocated(0) / (1024 ** 3), torch.cuda.get_device_properties(0).total_memory / (1024 ** 3)))\n",
        "        \n",
        "        if verbose or step == total_steps:\n",
        "            _, axes = plt.subplots(1, 3, figsize=(18,6))\n",
        "            axes[0].imshow(gt['img'].cpu().view(lr_sidelength, lr_sidelength).detach().numpy())\n",
        "            axes[0].set_title('GT '+ str(lr_sidelength) + 'x' + str(lr_sidelength))\n",
        "            axes[1].imshow(hr_img.cpu().view(hr_sidelength, hr_sidelength).detach().numpy())\n",
        "            axes[1].set_title('SISR ' + str(lr_sidelength) + ' to ' + str(hr_sidelength))\n",
        "            axes[2].imshow(hr_gt['img'].cpu().view(hr_sidelength, hr_sidelength).detach().numpy())\n",
        "            axes[2].set_title('GT ' + str(hr_sidelength) + 'x' + str(hr_sidelength))\n",
        "            plt.show()\n",
        "\n",
        "    optim.zero_grad()\n",
        "    loss.backward()\n",
        "    optim.step()\n",
        "\n",
        "# Collect data to compare results\n",
        "relu_sisr = hr_img.cpu().detach()\n",
        "psnrs_relu_sisr = psnrs\n",
        "ssims_relu_sisr = ssims\n",
        "psnr_relu_sisr = psnrs[-1]\n",
        "ssim_relu_sisr = ssims[-1]\n",
        "\n",
        "print('PSNR:', psnr_relu_sisr)\n",
        "print('SSIM:', ssim_relu_sisr)"
      ],
      "execution_count": null,
      "outputs": []
    },
    {
      "cell_type": "markdown",
      "metadata": {
        "id": "X9jGA-0n9jLL"
      },
      "source": [
        "### 5.8 - Bicubic"
      ]
    },
    {
      "cell_type": "code",
      "metadata": {
        "id": "0mJDR_jD-ObP"
      },
      "source": [
        "to_hr = Compose([\n",
        "    Resize(hr_sidelength, Image.BICUBIC),\n",
        "    ToTensor()\n",
        "])\n",
        "\n",
        "bicubic_input = gt['img'].clone().cpu().detach().view(lr_sidelength, lr_sidelength).numpy()\n",
        "bicubic_input = ToPILImage()(bicubic_input)\n",
        "\n",
        "hr_img = to_hr(bicubic_input) # SISR\n",
        "\n",
        "_, axes = plt.subplots(1, 3, figsize=(18,6))\n",
        "axes[0].imshow(gt['img'].cpu().view(lr_sidelength, lr_sidelength).detach().numpy())\n",
        "axes[0].set_title('GT '+ str(lr_sidelength) + 'x' + str(lr_sidelength))\n",
        "axes[1].imshow(hr_img.cpu().view(hr_sidelength, hr_sidelength).detach().numpy())\n",
        "axes[1].set_title('SISR ' + str(lr_sidelength) + ' to ' + str(hr_sidelength))\n",
        "axes[2].imshow(hr_gt['img'].cpu().view(hr_sidelength, hr_sidelength).detach().numpy())\n",
        "axes[2].set_title('GT ' + str(hr_sidelength) + 'x' + str(hr_sidelength))\n",
        "plt.show()\n",
        "\n",
        "bicubic_sisr = hr_img.cpu().detach()\n",
        "\n",
        "psnr_bicubic_sisr = myutils.img_psnr(hr_img, hr_gt['img'], hr_sidelength)\n",
        "ssim_bicubic_sisr = myutils.img_ssim(hr_img, hr_gt['img'], hr_sidelength)\n",
        "\n",
        "psnrs_bicubic_sisr = [psnr_bicubic_sisr for i in range(TOTAL_STEPS+1)]\n",
        "ssims_bicubic_sisr = [ssim_bicubic_sisr for i in range(TOTAL_STEPS+1)]\n",
        "\n",
        "print('PSNR:', psnr_bicubic_sisr)\n",
        "print('SSIM:', ssim_bicubic_sisr)"
      ],
      "execution_count": null,
      "outputs": []
    },
    {
      "cell_type": "markdown",
      "metadata": {
        "id": "aycOnXiW9lKm"
      },
      "source": [
        "### 5.9 - SRGAN"
      ]
    },
    {
      "cell_type": "code",
      "metadata": {
        "id": "7Pqun8cMEZnt"
      },
      "source": [
        "!rm -r '/content/mydataset'\n",
        "os.mkdir('/content/mydataset')\n",
        "os.mkdir('/content/mydataset/mydataset')\n",
        "os.mkdir('/content/mydataset/mydataset/data')\n",
        "os.mkdir('/content/mydataset/mydataset/data/images')\n",
        "os.mkdir('/content/mydataset/mydataset/data/images/train')\n",
        "os.mkdir('/content/mydataset/mydataset/data/groundTruth')\n",
        "os.mkdir('/content/mydataset/mydataset/data/groundTruth/train')\n",
        "\n",
        "image = hr_gt['img'].clone().cpu().detach().view(hr_sidelength, hr_sidelength)\n",
        "image = (image +1) /2.\n",
        "\n",
        "name = 'test_img'\n",
        "fname = name + '.png'\n",
        "\n",
        "save_image(image, '/content/mydataset/mydataset/data/groundTruth/train/' + fname)\n",
        "save_image(image, '/content/mydataset/mydataset/data/images/train/' + fname)\n",
        "\n",
        "!CUDA_VISIBLE_DEVICES=0 python ./SRGAN-PyTorch/test.py --option /content/siren/src/srgan/config_test.json\n",
        "\n",
        "transform = Compose([\n",
        "    Resize(hr_sidelength),\n",
        "    ToTensor(),\n",
        "    Normalize(torch.Tensor([0.5]), torch.Tensor([0.5])) # image = (image - mean) / std, output values in [-1., +1.]\n",
        "])\n",
        "\n",
        "srgan_img = Image.open('/content/results/SRGAN_x4/test_images/mydataset/' + name + '/sr.png')\n",
        "srgan_img = srgan_img.convert('L')\n",
        "srgan_img = transform(srgan_img)\n",
        "\n",
        "_, axes = plt.subplots(1, 3, figsize=(18,6))\n",
        "axes[0].imshow(gt['img'].cpu().view(lr_sidelength, lr_sidelength).detach().numpy())\n",
        "axes[0].set_title('GT '+ str(lr_sidelength) + 'x' + str(lr_sidelength))\n",
        "axes[1].imshow(srgan_img.cpu().view(hr_sidelength, hr_sidelength).detach().numpy())\n",
        "axes[1].set_title('SISR ' + str(lr_sidelength) + ' to ' + str(hr_sidelength))\n",
        "axes[2].imshow(hr_gt['img'].cpu().view(hr_sidelength, hr_sidelength).detach().numpy())\n",
        "axes[2].set_title('GT ' + str(hr_sidelength) + 'x' + str(hr_sidelength))\n",
        "plt.show()\n",
        "\n",
        "srgan_sisr = srgan_img\n",
        "\n",
        "psnr_srgan_sisr = myutils.img_psnr(srgan_img, hr_gt['img'], hr_sidelength)\n",
        "ssim_srgan_sisr = myutils.img_ssim(srgan_img, hr_gt['img'], hr_sidelength)\n",
        "\n",
        "psnrs_srgan_sisr = [psnr_srgan_sisr for i in range(TOTAL_STEPS+1)]\n",
        "ssims_srgan_sisr = [ssim_srgan_sisr for i in range(TOTAL_STEPS+1)]\n",
        "\n",
        "print('PSNR:', psnr_srgan_sisr)\n",
        "print('SSIM:', ssim_srgan_sisr)"
      ],
      "execution_count": null,
      "outputs": []
    },
    {
      "cell_type": "markdown",
      "metadata": {
        "id": "I85I0fJUT6K5"
      },
      "source": [
        "### 5.10 - Collect and compare results"
      ]
    },
    {
      "cell_type": "code",
      "metadata": {
        "id": "eEshomr_T5h_"
      },
      "source": [
        "psnr_data = {\r\n",
        "    'SIREN' : psnrs_siren_sisr,\r\n",
        "    'SIREN VGG' : psnrs_siren_vgg_sisr,\r\n",
        "    'SIREN P.E.' : psnrs_siren_nerf_sisr,\r\n",
        "    'SIREN P.E. VGG' : psnrs_siren_nerf_vgg_sisr,\r\n",
        "    'ReLU P.E.' : psnrs_relu_sisr,\r\n",
        "    'bicubic' : psnrs_bicubic_sisr,\r\n",
        "    'SRGAN' : psnrs_srgan_sisr,\r\n",
        "    }\r\n",
        "ssim_data = {\r\n",
        "    'SIREN' : ssims_siren_sisr,\r\n",
        "    'SIREN VGG' : ssims_siren_vgg_sisr,\r\n",
        "    'SIREN P.E.' : ssims_siren_nerf_sisr,\r\n",
        "    'SIREN P.E. VGG' : ssims_siren_nerf_vgg_sisr,\r\n",
        "    'ReLU P.E.' : ssims_relu_sisr,\r\n",
        "    'bicubic' : ssims_bicubic_sisr,\r\n",
        "    'SRGAN' : ssims_srgan_sisr,\r\n",
        "    }\r\n",
        "\r\n",
        "myutils.plot_psnr_and_ssim(psnr_data, ssim_data, total_steps, save=True, fname='psnr_and_ssim_sisr.png')\r\n",
        "\r\n",
        "# images = {\r\n",
        "#     'GT' : gt_sisr,\r\n",
        "#     'SIREN' : siren_sisr,\r\n",
        "#     'SIREN VGG' : siren_vgg_sisr,\r\n",
        "#     'SIREN P.E.' : siren_nerf_sisr,\r\n",
        "#     # 'SIREN P.E. VGG' : siren_nerf_vgg_sisr,\r\n",
        "#     'ReLU P.E.' : relu_sisr,\r\n",
        "#     'Bicubic' : bicubic_sisr,\r\n",
        "#     'SRGAN' : srgan_sisr,\r\n",
        "#     }\r\n",
        "images = {\r\n",
        "    'LR GT' : gt_lr_sisr,\r\n",
        "    'HR GT' : gt_sisr,\r\n",
        "    'SIREN' : siren_sisr,\r\n",
        "    'SIREN P.E. VGG' : siren_vgg_sisr,\r\n",
        "    'SIREN P.E.' : siren_nerf_sisr,\r\n",
        "    'SIREN P.E. VGG' : siren_nerf_vgg_sisr,\r\n",
        "    'ReLU P.E.' : relu_sisr,\r\n",
        "    'Bicubic' : bicubic_sisr,\r\n",
        "    'SRGAN' : srgan_sisr,\r\n",
        "    }\r\n",
        "\r\n",
        "def print_sisr_grid(images, hr_sidelength=512, lr_sidelength=512, figsize=(20, 10), textsize=24, fname='sisr_grid.png'):\r\n",
        "    ''' Create custom figure with grid (GT, SIREN, SIREN VGG, ReLU-Nerf, Bicubic, SRGAN)'''\r\n",
        "\r\n",
        "    fig = plt.figure(constrained_layout=False, figsize=figsize)\r\n",
        "    gs = fig.add_gridspec(2, 4, wspace=0, hspace=0.3)\r\n",
        "\r\n",
        "    for i, (key, value) in enumerate(images.items()):\r\n",
        "        if i < 4:\r\n",
        "            a1 = fig.add_subplot(gs[0, i])\r\n",
        "        else:\r\n",
        "            a1 = fig.add_subplot(gs[1, i-4])\r\n",
        "        if key == 'LR GT':\r\n",
        "            a1.imshow(value.cpu().view(lr_sidelength, lr_sidelength).detach().numpy(), cmap='gray')\r\n",
        "        else:\r\n",
        "            a1.imshow(value.cpu().view(hr_sidelength, hr_sidelength).detach().numpy(), cmap='gray')\r\n",
        "        a1.set_xticks([])\r\n",
        "        a1.set_yticks([])\r\n",
        "        a1.set_title(key, fontsize=textsize)\r\n",
        "    plt.savefig(fname=fname, bbox_inches='tight')\r\n",
        "    plt.show()\r\n",
        "\r\n",
        "print_sisr_grid(images, hr_sidelength=hr_sidelength, lr_sidelength=lr_sidelength)\r\n",
        "\r\n",
        "# myutils.print_sisr_grid(images, sidelength=hr_sidelength)\r\n",
        "\r\n",
        "print('SISR %dx%d to %dx%d' % (lr_sidelength, lr_sidelength, hr_sidelength, hr_sidelength))\r\n",
        "print('hidden layers: %d' % (HIDDEN_LAYERS))\r\n",
        "print('hidden features: %d' % (HIDDEN_FEATURES))\r\n",
        "print('total steps: %d' % (TOTAL_STEPS))\r\n",
        "print('\\n')\r\n",
        "\r\n",
        "print('PSNR:')\r\n",
        "for key, val in psnr_data.items():\r\n",
        "    print('\\t' + key + ': %0.6f' % (val[-1]))\r\n",
        "print('\\n')\r\n",
        "print('SSIM:')\r\n",
        "for key, val in ssim_data.items():\r\n",
        "    print('\\t' + key + ': %0.6f' % (val[-1]))"
      ],
      "execution_count": null,
      "outputs": []
    },
    {
      "cell_type": "markdown",
      "metadata": {
        "id": "G9ZrBhyK74gM"
      },
      "source": [
        "# 6 - Supplementary materials"
      ]
    },
    {
      "cell_type": "markdown",
      "metadata": {
        "id": "2UWfTg34OWR_"
      },
      "source": [
        "## 6.1 - Compare ReLU classic, VGG and P.E."
      ]
    },
    {
      "cell_type": "markdown",
      "metadata": {
        "id": "wCxL0pHk8TAw"
      },
      "source": [
        "### 6.1.1 - Define config"
      ]
    },
    {
      "cell_type": "code",
      "metadata": {
        "id": "MoZ0Q07O8TAx"
      },
      "source": [
        "import box\n",
        "import PIL\n",
        "from torchvision.utils import save_image\n",
        "from torchvision.transforms import Resize, Compose, ToPILImage, ToTensor, Normalize\n",
        "from PIL import Image\n",
        "\n",
        "subsets = {\n",
        "    # 'bicubic_x2' : 'all',\n",
        "    # 'unknown_x2' : 'all',\n",
        "    # 'bicubic_x3' : 'all',\n",
        "    # 'unknown_x3' : 'all',\n",
        "    # 'bicubic_x4' : 'all',\n",
        "    # 'unknown_x4' : 'all',\n",
        "    # 'bicubic_x8' : 'all',\n",
        "    # 'mild_x4' : 'all',\n",
        "    # 'difficult_x4' : 'all',\n",
        "    # 'wild_x4' : 'all',\n",
        "    'HR_images' : 'train',\n",
        "    }\n",
        "\n",
        "# max cameramen image = 512x512\n",
        "# max starfish image = 481x321\n",
        "# 224: avoid VVG loss interpolation\n",
        "lr_sidelength = 128 # 64, 128, 224, 256\n",
        "hr_sidelength = 512 # 256, 512\n",
        "\n",
        "dataset_type = 'div2k' # skimage, div2k\n",
        "\n",
        "# Choose image type for skimage\n",
        "img_type = 'cameraman' # cameraman, starfish\n",
        "\n",
        "# Choose index for DIV2K\n",
        "div2k_index = 143\n",
        "\n",
        "# Config the network\n",
        "LR = 1e-4\n",
        "HIDDEN_LAYERS = 3 # 2, 3, 5, 10\n",
        "HIDDEN_FEATURES = 256 # 256. 512\n",
        "VERBOSE = False\n",
        "TOTAL_STEPS = 1000 # 500, 1000\n",
        "STEPS_TIL_SUMMARY = TOTAL_STEPS*0.1\n",
        "\n",
        "idx_recommended = [\n",
        "    2,      # palma\n",
        "    21,     # paesaggio\n",
        "    28,     # affreschi\n",
        "    33,     # carrozza\n",
        "    49,     # quadro contemporaneo\n",
        "    51,     # città\n",
        "    68,     # donna\n",
        "    82,     # paesaggio con fiume\n",
        "    89,     # uomo\n",
        "    109,    # asiatici\n",
        "    143,    # auto\n",
        "    159,    # verdura\n",
        "    177,    # cammelli\n",
        "    181,    # tempio\n",
        "]\n",
        "idx_to_sample = [div2k_index] # only the first one will be considered"
      ],
      "execution_count": null,
      "outputs": []
    },
    {
      "cell_type": "markdown",
      "metadata": {
        "id": "oy6lDPG08TAy"
      },
      "source": [
        "### 6.1.2 - Prepare Dataset and Dataloader"
      ]
    },
    {
      "cell_type": "code",
      "metadata": {
        "id": "XWIXvBcA8TAy"
      },
      "source": [
        "if dataset_type == 'skimage':\n",
        "    lr_dataset = PoissonEqn(lr_sidelength, img_type=img_type, gradients=False, laplace=False)\n",
        "    hr_dataset = PoissonEqn(hr_sidelength, img_type=img_type, gradients=False, laplace=False)\n",
        "elif dataset_type == 'div2k':\n",
        "    if not os.path.isdir('data/DIV2K'):\n",
        "        DIV2K_loader.DIV2KImport(sets=subsets)\n",
        "    lr_dataset = DIV2KImageDataset(subsets=subsets, sidelength=lr_sidelength ,transform=default_transform(lr_sidelength), idx_to_sample=idx_to_sample, with_coords=True)\n",
        "    hr_dataset = DIV2KImageDataset(subsets=subsets, sidelength=hr_sidelength, transform=default_transform(hr_sidelength), idx_to_sample=idx_to_sample, with_coords=True)\n",
        "else:\n",
        "    raise Exception('Unexpected dataset type') \n",
        "\n",
        "lr_dataloader = DataLoader(lr_dataset, batch_size=1, pin_memory=True, num_workers=0)\n",
        "\n",
        "model_input, gt = next(iter(lr_dataloader))\n",
        "gt = {key: value.cuda() for key, value in gt.items()}\n",
        "model_input = model_input.cuda()\n",
        "\n",
        "hr_dataloader = DataLoader(hr_dataset, batch_size=1, pin_memory=True, num_workers=0)\n",
        "\n",
        "hr_grid, hr_gt = next(iter(hr_dataloader))\n",
        "gt_sisr = hr_gt['img']\n",
        "hr_gt = {key: value.cuda() for key, value in hr_gt.items()}\n",
        "hr_grid = hr_grid.cuda()"
      ],
      "execution_count": null,
      "outputs": []
    },
    {
      "cell_type": "markdown",
      "metadata": {
        "id": "FwYkSYwp8ciz"
      },
      "source": [
        "### 6.1.3 - Classic ReLU"
      ]
    },
    {
      "cell_type": "code",
      "metadata": {
        "id": "dvnNw1lq8ci1"
      },
      "source": [
        "sys.path.append('siren/src/include/siren')\n",
        "import modules\n",
        "\n",
        "input = {'coords' : model_input}\n",
        "hr_input = {'coords' : hr_grid}\n",
        "\n",
        "# Create the network\n",
        "relu_net = modules.SingleBVPNet(type='relu', mode='mlp', hidden_features=HIDDEN_FEATURES, num_hidden_layers=HIDDEN_LAYERS, sidelength=lr_sidelength)\n",
        "model = relu_net.cuda()\n",
        "\n",
        "# Define optimizer\n",
        "optim = torch.optim.Adam(lr=LR, params=model.parameters())\n",
        "\n",
        "total_steps = TOTAL_STEPS\n",
        "steps_til_summary = STEPS_TIL_SUMMARY\n",
        "verbose = VERBOSE # True, False\n",
        "\n",
        "psnrs = []\n",
        "ssims = []\n",
        "\n",
        "for step in range(total_steps+1):\n",
        "    model_output = model(input)    \n",
        "    coords = model_output['model_in']\n",
        "    model_output = model_output['model_out']\n",
        "    hr_img = model(hr_input)    \n",
        "    hr_img = hr_img['model_out']\n",
        "    loss = loss_functions.image_mse(model_output, coords, gt['img'])\n",
        "\n",
        "    psnrs.append(myutils.img_psnr(hr_img, hr_gt['img'], hr_sidelength))\n",
        "    ssims.append(myutils.img_ssim(hr_img, hr_gt['img'], hr_sidelength))\n",
        "    \n",
        "    if not step % steps_til_summary:\n",
        "        print(\"Step %d, Total loss %0.6f\" % (step, loss))\n",
        "        print('GPU Memory occupation: %0.1f / %0.1f GB' % (torch.cuda.memory_allocated(0) / (1024 ** 3), torch.cuda.get_device_properties(0).total_memory / (1024 ** 3)))\n",
        "        \n",
        "        if verbose or step == total_steps:\n",
        "            _, axes = plt.subplots(1, 3, figsize=(18,6))\n",
        "            axes[0].imshow(gt['img'].cpu().view(lr_sidelength, lr_sidelength).detach().numpy())\n",
        "            axes[0].set_title('GT '+ str(lr_sidelength) + 'x' + str(lr_sidelength))\n",
        "            axes[1].imshow(hr_img.cpu().view(hr_sidelength, hr_sidelength).detach().numpy())\n",
        "            axes[1].set_title('SISR ' + str(lr_sidelength) + ' to ' + str(hr_sidelength))\n",
        "            axes[2].imshow(hr_gt['img'].cpu().view(hr_sidelength, hr_sidelength).detach().numpy())\n",
        "            axes[2].set_title('GT ' + str(hr_sidelength) + 'x' + str(hr_sidelength))\n",
        "            plt.show()\n",
        "\n",
        "    optim.zero_grad()\n",
        "    loss.backward()\n",
        "    optim.step()\n",
        "\n",
        "# Collect data to compare results\n",
        "relu_sisr = hr_img.cpu().detach()\n",
        "psnrs_relu_sisr = psnrs\n",
        "ssims_relu_sisr = ssims\n",
        "psnr_relu_sisr = psnrs[-1]\n",
        "ssim_relu_sisr = ssims[-1]\n",
        "\n",
        "print('PSNR:', psnr_relu_sisr)\n",
        "print('SSIM:', ssim_relu_sisr)"
      ],
      "execution_count": null,
      "outputs": []
    },
    {
      "cell_type": "markdown",
      "metadata": {
        "id": "i7hPWNy_76dZ"
      },
      "source": [
        "### 6.1.4 - ReLU with VGG loss"
      ]
    },
    {
      "cell_type": "code",
      "metadata": {
        "id": "skL3SjUB8Gsr"
      },
      "source": [
        "sys.path.append('siren/src/include/siren')\n",
        "import modules\n",
        "\n",
        "input = {'coords' : model_input}\n",
        "hr_input = {'coords' : hr_grid}\n",
        "\n",
        "# Create the network\n",
        "relu_net = modules.SingleBVPNet(type='relu', mode='mlp', hidden_features=HIDDEN_FEATURES, num_hidden_layers=HIDDEN_LAYERS, sidelength=lr_sidelength)\n",
        "model = relu_net.cuda()\n",
        "\n",
        "loss_fn = loss_functions.VGGPerceptualLoss().cuda()\n",
        "\n",
        "# Define optimizer\n",
        "optim = torch.optim.Adam(lr=LR, params=model.parameters())\n",
        "\n",
        "total_steps = TOTAL_STEPS\n",
        "steps_til_summary = STEPS_TIL_SUMMARY\n",
        "verbose = VERBOSE # True, False\n",
        "\n",
        "psnrs = []\n",
        "ssims = []\n",
        "\n",
        "for step in range(total_steps+1):\n",
        "    model_output = model(input)    \n",
        "    coords = model_output['model_in']\n",
        "    model_output = model_output['model_out']\n",
        "    hr_img = model(hr_input)    \n",
        "    hr_img = hr_img['model_out']\n",
        "\n",
        "    # Adapt images for VGG\n",
        "    _y = model_output.view(lr_sidelength, lr_sidelength).unsqueeze(0).unsqueeze(0)\n",
        "    _gt = gt['img'].view(lr_sidelength, lr_sidelength).unsqueeze(0).unsqueeze(0)\n",
        "    loss = loss_fn(_y, _gt)\n",
        "\n",
        "    psnrs.append(myutils.img_psnr(hr_img, hr_gt['img'], hr_sidelength))\n",
        "    ssims.append(myutils.img_ssim(hr_img, hr_gt['img'], hr_sidelength))\n",
        "    \n",
        "    if not step % steps_til_summary:\n",
        "        print(\"Step %d, Total loss %0.6f\" % (step, loss))\n",
        "        print('GPU Memory occupation: %0.1f / %0.1f GB' % (torch.cuda.memory_allocated(0) / (1024 ** 3), torch.cuda.get_device_properties(0).total_memory / (1024 ** 3)))\n",
        "        \n",
        "        if verbose or step == total_steps:\n",
        "            _, axes = plt.subplots(1, 3, figsize=(18,6))\n",
        "            axes[0].imshow(gt['img'].cpu().view(lr_sidelength, lr_sidelength).detach().numpy())\n",
        "            axes[0].set_title('GT '+ str(lr_sidelength) + 'x' + str(lr_sidelength))\n",
        "            axes[1].imshow(hr_img.cpu().view(hr_sidelength, hr_sidelength).detach().numpy())\n",
        "            axes[1].set_title('SISR ' + str(lr_sidelength) + ' to ' + str(hr_sidelength))\n",
        "            axes[2].imshow(hr_gt['img'].cpu().view(hr_sidelength, hr_sidelength).detach().numpy())\n",
        "            axes[2].set_title('GT ' + str(hr_sidelength) + 'x' + str(hr_sidelength))\n",
        "            plt.show()\n",
        "\n",
        "    optim.zero_grad()\n",
        "    loss.backward()\n",
        "    optim.step()\n",
        "\n",
        "# Collect data to compare results\n",
        "relu_vgg_sisr = hr_img.cpu().detach()\n",
        "psnrs_relu_vgg_sisr = psnrs\n",
        "ssims_relu_vgg_sisr = ssims\n",
        "psnr_relu_vgg_sisr = psnrs[-1]\n",
        "ssim_relu_vgg_sisr = ssims[-1]\n",
        "\n",
        "print('PSNR:', psnr_relu_vgg_sisr)\n",
        "print('SSIM:', ssim_relu_vgg_sisr)"
      ],
      "execution_count": null,
      "outputs": []
    },
    {
      "cell_type": "markdown",
      "metadata": {
        "id": "FRNkcZlOD4k7"
      },
      "source": [
        "### 6.1.5 - ReLU with P.E."
      ]
    },
    {
      "cell_type": "code",
      "metadata": {
        "id": "aTkCXXUCD4k8"
      },
      "source": [
        "sys.path.append('siren/src/include/siren')\n",
        "import modules\n",
        "\n",
        "input = {'coords' : model_input}\n",
        "hr_input = {'coords' : hr_grid}\n",
        "\n",
        "# Create the network\n",
        "relu_net = modules.SingleBVPNet(type='relu', mode='nerf', hidden_features=HIDDEN_FEATURES, num_hidden_layers=HIDDEN_LAYERS, sidelength=lr_sidelength)\n",
        "model = relu_net.cuda()\n",
        "\n",
        "# Define optimizer\n",
        "optim = torch.optim.Adam(lr=LR, params=model.parameters())\n",
        "\n",
        "total_steps = TOTAL_STEPS\n",
        "steps_til_summary = STEPS_TIL_SUMMARY\n",
        "verbose = VERBOSE # True, False\n",
        "\n",
        "psnrs = []\n",
        "ssims = []\n",
        "\n",
        "for step in range(total_steps+1):\n",
        "    model_output = model(input)    \n",
        "    coords = model_output['model_in']\n",
        "    model_output = model_output['model_out']\n",
        "    hr_img = model(hr_input)    \n",
        "    hr_img = hr_img['model_out']\n",
        "    loss = loss_functions.image_mse(model_output, coords, gt['img'])\n",
        "\n",
        "    psnrs.append(myutils.img_psnr(hr_img, hr_gt['img'], hr_sidelength))\n",
        "    ssims.append(myutils.img_ssim(hr_img, hr_gt['img'], hr_sidelength))\n",
        "    \n",
        "    if not step % steps_til_summary:\n",
        "        print(\"Step %d, Total loss %0.6f\" % (step, loss))\n",
        "        print('GPU Memory occupation: %0.1f / %0.1f GB' % (torch.cuda.memory_allocated(0) / (1024 ** 3), torch.cuda.get_device_properties(0).total_memory / (1024 ** 3)))\n",
        "        \n",
        "        if verbose or step == total_steps:\n",
        "            _, axes = plt.subplots(1, 3, figsize=(18,6))\n",
        "            axes[0].imshow(gt['img'].cpu().view(lr_sidelength, lr_sidelength).detach().numpy())\n",
        "            axes[0].set_title('GT '+ str(lr_sidelength) + 'x' + str(lr_sidelength))\n",
        "            axes[1].imshow(hr_img.cpu().view(hr_sidelength, hr_sidelength).detach().numpy())\n",
        "            axes[1].set_title('SISR ' + str(lr_sidelength) + ' to ' + str(hr_sidelength))\n",
        "            axes[2].imshow(hr_gt['img'].cpu().view(hr_sidelength, hr_sidelength).detach().numpy())\n",
        "            axes[2].set_title('GT ' + str(hr_sidelength) + 'x' + str(hr_sidelength))\n",
        "            plt.show()\n",
        "\n",
        "    optim.zero_grad()\n",
        "    loss.backward()\n",
        "    optim.step()\n",
        "\n",
        "# Collect data to compare results\n",
        "relu_nerf_sisr = hr_img.cpu().detach()\n",
        "psnrs_relu_nerf_sisr = psnrs\n",
        "ssims_relu_nerf_sisr = ssims\n",
        "psnr_relu_nerf_sisr = psnrs[-1]\n",
        "ssim_relu_nerf_sisr = ssims[-1]\n",
        "\n",
        "print('PSNR:', psnr_relu_nerf_sisr)\n",
        "print('SSIM:', ssim_relu_nerf_sisr)"
      ],
      "execution_count": null,
      "outputs": []
    },
    {
      "cell_type": "markdown",
      "metadata": {
        "id": "JKTdOSJPD9L3"
      },
      "source": [
        "### 6.1.6 - ReLU with P.E. and VGG loss"
      ]
    },
    {
      "cell_type": "code",
      "metadata": {
        "id": "d2RtCsTkD9L3"
      },
      "source": [
        "sys.path.append('siren/src/include/siren')\n",
        "import modules\n",
        "\n",
        "input = {'coords' : model_input}\n",
        "hr_input = {'coords' : hr_grid}\n",
        "\n",
        "# Create the network\n",
        "relu_net = modules.SingleBVPNet(type='relu', mode='nerf', hidden_features=HIDDEN_FEATURES, num_hidden_layers=HIDDEN_LAYERS, sidelength=lr_sidelength)\n",
        "model = relu_net.cuda()\n",
        "\n",
        "loss_fn = loss_functions.VGGPerceptualLoss().cuda()\n",
        "\n",
        "# Define optimizer\n",
        "optim = torch.optim.Adam(lr=LR, params=model.parameters())\n",
        "\n",
        "total_steps = TOTAL_STEPS\n",
        "steps_til_summary = STEPS_TIL_SUMMARY\n",
        "verbose = VERBOSE # True, False\n",
        "\n",
        "psnrs = []\n",
        "ssims = []\n",
        "\n",
        "for step in range(total_steps+1):\n",
        "    model_output = model(input)    \n",
        "    coords = model_output['model_in']\n",
        "    model_output = model_output['model_out']\n",
        "    hr_img = model(hr_input)    \n",
        "    hr_img = hr_img['model_out']\n",
        "\n",
        "    # Adapt images for VGG\n",
        "    _y = model_output.view(lr_sidelength, lr_sidelength).unsqueeze(0).unsqueeze(0)\n",
        "    _gt = gt['img'].view(lr_sidelength, lr_sidelength).unsqueeze(0).unsqueeze(0)\n",
        "    loss = loss_fn(_y, _gt)\n",
        "\n",
        "    psnrs.append(myutils.img_psnr(hr_img, hr_gt['img'], hr_sidelength))\n",
        "    ssims.append(myutils.img_ssim(hr_img, hr_gt['img'], hr_sidelength))\n",
        "    \n",
        "    if not step % steps_til_summary:\n",
        "        print(\"Step %d, Total loss %0.6f\" % (step, loss))\n",
        "        print('GPU Memory occupation: %0.1f / %0.1f GB' % (torch.cuda.memory_allocated(0) / (1024 ** 3), torch.cuda.get_device_properties(0).total_memory / (1024 ** 3)))\n",
        "        \n",
        "        if verbose or step == total_steps:\n",
        "            _, axes = plt.subplots(1, 3, figsize=(18,6))\n",
        "            axes[0].imshow(gt['img'].cpu().view(lr_sidelength, lr_sidelength).detach().numpy())\n",
        "            axes[0].set_title('GT '+ str(lr_sidelength) + 'x' + str(lr_sidelength))\n",
        "            axes[1].imshow(hr_img.cpu().view(hr_sidelength, hr_sidelength).detach().numpy())\n",
        "            axes[1].set_title('SISR ' + str(lr_sidelength) + ' to ' + str(hr_sidelength))\n",
        "            axes[2].imshow(hr_gt['img'].cpu().view(hr_sidelength, hr_sidelength).detach().numpy())\n",
        "            axes[2].set_title('GT ' + str(hr_sidelength) + 'x' + str(hr_sidelength))\n",
        "            plt.show()\n",
        "\n",
        "    optim.zero_grad()\n",
        "    loss.backward()\n",
        "    optim.step()\n",
        "\n",
        "# Collect data to compare results\n",
        "relu_nerf_vgg_sisr = hr_img.cpu().detach()\n",
        "psnrs_relu_nerf_vgg_sisr = psnrs\n",
        "ssims_relu_nerf_vgg_sisr = ssims\n",
        "psnr_relu_nerf_vgg_sisr = psnrs[-1]\n",
        "ssim_relu_nerf_vgg_sisr = ssims[-1]\n",
        "\n",
        "print('PSNR:', psnr_relu_nerf_vgg_sisr)\n",
        "print('SSIM:', ssim_relu_nerf_vgg_sisr)"
      ],
      "execution_count": null,
      "outputs": []
    },
    {
      "cell_type": "markdown",
      "metadata": {
        "id": "GdXS9fhD85Wp"
      },
      "source": [
        "### 6.1.7 - Collect and compare results"
      ]
    },
    {
      "cell_type": "code",
      "metadata": {
        "id": "Ym-zpmkY85Wq"
      },
      "source": [
        "psnr_data = {\r\n",
        "    'ReLU' : psnrs_relu_sisr,\r\n",
        "    'ReLU VGG' : psnrs_relu_vgg_sisr,\r\n",
        "    'ReLU P.E.' : psnrs_relu_nerf_sisr,\r\n",
        "    'ReLU P.E. VGG' : psnrs_relu_nerf_vgg_sisr,\r\n",
        "    }\r\n",
        "ssim_data = {\r\n",
        "    'ReLU' : ssims_relu_sisr,\r\n",
        "    'ReLU VGG' : ssims_relu_vgg_sisr,\r\n",
        "    'ReLU P.E.' : ssims_relu_nerf_sisr,\r\n",
        "    'ReLU P.E. VGG' : ssims_relu_nerf_vgg_sisr,\r\n",
        "    }\r\n",
        "\r\n",
        "myutils.plot_psnr_and_ssim(psnr_data, ssim_data, total_steps, save=True, fname='psnr_and_ssim_sisr_relu.png')\r\n",
        "\r\n",
        "images = {\r\n",
        "    'GT' : gt_sisr,\r\n",
        "    'ReLU' : relu_sisr,\r\n",
        "    'ReLU VGG' : relu_vgg_sisr,\r\n",
        "    'ReLU P.E.' : relu_nerf_sisr,\r\n",
        "    'ReLU P.E. VGG' : relu_nerf_vgg_sisr,\r\n",
        "    }\r\n",
        "\r\n",
        "def print_sisr_grid(images, sidelength=512, figsize=(20, 4), textsize=24, fname='sisr_grid_relu.png'):\r\n",
        "    ''' Create custom figure with grid (GT, SIREN, SIREN VGG, ReLU-Nerf, Bicubic, SRGAN)'''\r\n",
        "\r\n",
        "    fig = plt.figure(constrained_layout=False, figsize=figsize)\r\n",
        "    gs = fig.add_gridspec(1, len(images), wspace=0, hspace=0)\r\n",
        "\r\n",
        "    for i, (key, value) in enumerate(images.items()):\r\n",
        "        a1 = fig.add_subplot(gs[0, i])\r\n",
        "        a1.imshow(value.cpu().view(sidelength, sidelength).detach().numpy(), cmap='gray')\r\n",
        "        a1.set_xticks([])\r\n",
        "        a1.set_yticks([])\r\n",
        "        a1.set_title(key, fontsize=textsize)\r\n",
        "    plt.savefig(fname=fname, bbox_inches='tight')\r\n",
        "    plt.show()\r\n",
        "\r\n",
        "print_sisr_grid(images, sidelength=hr_sidelength)\r\n",
        "\r\n",
        "print('SISR %dx%d to %dx%d' % (lr_sidelength, lr_sidelength, hr_sidelength, hr_sidelength))\r\n",
        "print('hidden layers: %d' % (HIDDEN_LAYERS))\r\n",
        "print('hidden features: %d' % (HIDDEN_FEATURES))\r\n",
        "print('total steps: %d' % (TOTAL_STEPS))\r\n",
        "print('\\n')\r\n",
        "\r\n",
        "print('PSNR:')\r\n",
        "for key, val in psnr_data.items():\r\n",
        "    print('\\t' + key + ': %0.6f' % (val[-1]))\r\n",
        "print('\\n')\r\n",
        "print('SSIM:')\r\n",
        "for key, val in ssim_data.items():\r\n",
        "    print('\\t' + key + ': %0.6f' % (val[-1]))"
      ],
      "execution_count": null,
      "outputs": []
    },
    {
      "cell_type": "markdown",
      "metadata": {
        "id": "YhsycGZjY2n2"
      },
      "source": [
        "## 6.2 - Compare SIREN classic, VGG and P.E."
      ]
    },
    {
      "cell_type": "markdown",
      "metadata": {
        "id": "lVJXA0pFY2n3"
      },
      "source": [
        "### 6.2.1 - Define config"
      ]
    },
    {
      "cell_type": "code",
      "metadata": {
        "id": "imbeFODoY2n3"
      },
      "source": [
        "import box\n",
        "import PIL\n",
        "from torchvision.utils import save_image\n",
        "from torchvision.transforms import Resize, Compose, ToPILImage, ToTensor, Normalize\n",
        "from PIL import Image\n",
        "\n",
        "subsets = {\n",
        "    # 'bicubic_x2' : 'all',\n",
        "    # 'unknown_x2' : 'all',\n",
        "    # 'bicubic_x3' : 'all',\n",
        "    # 'unknown_x3' : 'all',\n",
        "    # 'bicubic_x4' : 'all',\n",
        "    # 'unknown_x4' : 'all',\n",
        "    # 'bicubic_x8' : 'all',\n",
        "    # 'mild_x4' : 'all',\n",
        "    # 'difficult_x4' : 'all',\n",
        "    # 'wild_x4' : 'all',\n",
        "    'HR_images' : 'train',\n",
        "    }\n",
        "\n",
        "# max cameramen image = 512x512\n",
        "# max starfish image = 481x321\n",
        "# 224: avoid VVG loss interpolation\n",
        "lr_sidelength = 128 # 128, 224, 256\n",
        "hr_sidelength = 512 # 256, 512\n",
        "\n",
        "dataset_type = 'div2k' # skimage, div2k\n",
        "\n",
        "# Choose image type for skimage\n",
        "img_type = 'cameraman' # cameraman, starfish\n",
        "\n",
        "# Choose index for DIV2K\n",
        "div2k_index = 143\n",
        "\n",
        "# Config the network\n",
        "LR = 1e-4\n",
        "HIDDEN_LAYERS = 3 # 2, 3, 5, 10\n",
        "HIDDEN_FEATURES = 256 # 256. 512\n",
        "VERBOSE = False\n",
        "TOTAL_STEPS = 100 # 500, 1000\n",
        "STEPS_TIL_SUMMARY = TOTAL_STEPS*0.1\n",
        "\n",
        "idx_recommended = [\n",
        "    2,      # palma\n",
        "    21,     # paesaggio\n",
        "    28,     # affreschi\n",
        "    33,     # carrozza\n",
        "    49,     # quadro contemporaneo\n",
        "    51,     # città\n",
        "    68,     # donna\n",
        "    82,     # paesaggio con fiume\n",
        "    89,     # uomo\n",
        "    109,    # asiatici\n",
        "    143,    # auto\n",
        "    159,    # verdura\n",
        "    177,    # cammelli\n",
        "    181,    # tempio\n",
        "]\n",
        "idx_to_sample = [div2k_index] # only the first one will be considered"
      ],
      "execution_count": null,
      "outputs": []
    },
    {
      "cell_type": "markdown",
      "metadata": {
        "id": "Ig3lWY9nY2n4"
      },
      "source": [
        "### 6.1.2 - Prepare Dataset and Dataloader"
      ]
    },
    {
      "cell_type": "code",
      "metadata": {
        "id": "P5RdKB-DY2n5"
      },
      "source": [
        "if dataset_type == 'skimage':\n",
        "    lr_dataset = PoissonEqn(lr_sidelength, img_type=img_type, gradients=False, laplace=False)\n",
        "    hr_dataset = PoissonEqn(hr_sidelength, img_type=img_type, gradients=False, laplace=False)\n",
        "elif dataset_type == 'div2k':\n",
        "    if not os.path.isdir('data/DIV2K'):\n",
        "        DIV2K_loader.DIV2KImport(sets=subsets)\n",
        "    lr_dataset = DIV2KImageDataset(subsets=subsets, sidelength=lr_sidelength ,transform=default_transform(lr_sidelength), idx_to_sample=idx_to_sample, with_coords=True)\n",
        "    hr_dataset = DIV2KImageDataset(subsets=subsets, sidelength=hr_sidelength, transform=default_transform(hr_sidelength), idx_to_sample=idx_to_sample, with_coords=True)\n",
        "else:\n",
        "    raise Exception('Unexpected dataset type') \n",
        "\n",
        "lr_dataloader = DataLoader(lr_dataset, batch_size=1, pin_memory=True, num_workers=0)\n",
        "\n",
        "model_input, gt = next(iter(lr_dataloader))\n",
        "gt = {key: value.cuda() for key, value in gt.items()}\n",
        "model_input = model_input.cuda()\n",
        "\n",
        "hr_dataloader = DataLoader(hr_dataset, batch_size=1, pin_memory=True, num_workers=0)\n",
        "\n",
        "hr_grid, hr_gt = next(iter(hr_dataloader))\n",
        "gt_sisr = hr_gt['img']\n",
        "hr_gt = {key: value.cuda() for key, value in hr_gt.items()}\n",
        "hr_grid = hr_grid.cuda()"
      ],
      "execution_count": null,
      "outputs": []
    },
    {
      "cell_type": "markdown",
      "metadata": {
        "id": "8msXJ_j9Y2n6"
      },
      "source": [
        "### 6.2.3 - Classic SIREN"
      ]
    },
    {
      "cell_type": "code",
      "metadata": {
        "id": "QmwDa3oAY2n7"
      },
      "source": [
        "sys.path.append('siren/src/include/siren')\n",
        "import modules\n",
        "\n",
        "input = {'coords' : model_input}\n",
        "hr_input = {'coords' : hr_grid}\n",
        "\n",
        "# Create the network\n",
        "siren_net = modules.SingleBVPNet(type='sine', mode='mlp', hidden_features=HIDDEN_FEATURES, num_hidden_layers=HIDDEN_LAYERS, sidelength=lr_sidelength)\n",
        "model = siren_net.cuda()\n",
        "\n",
        "# Define optimizer\n",
        "optim = torch.optim.Adam(lr=LR, params=model.parameters())\n",
        "\n",
        "total_steps = TOTAL_STEPS\n",
        "steps_til_summary = STEPS_TIL_SUMMARY\n",
        "verbose = VERBOSE # True, False\n",
        "\n",
        "psnrs = []\n",
        "ssims = []\n",
        "\n",
        "for step in range(total_steps+1):\n",
        "    model_output = model(input)    \n",
        "    coords = model_output['model_in']\n",
        "    model_output = model_output['model_out']\n",
        "    hr_img = model(hr_input)    \n",
        "    hr_img = hr_img['model_out']\n",
        "    loss = loss_functions.image_mse(model_output, coords, gt['img'])\n",
        "\n",
        "    psnrs.append(myutils.img_psnr(hr_img, hr_gt['img'], hr_sidelength))\n",
        "    ssims.append(myutils.img_ssim(hr_img, hr_gt['img'], hr_sidelength))\n",
        "    \n",
        "    if not step % steps_til_summary:\n",
        "        print(\"Step %d, Total loss %0.6f\" % (step, loss))\n",
        "        print('GPU Memory occupation: %0.1f / %0.1f GB' % (torch.cuda.memory_allocated(0) / (1024 ** 3), torch.cuda.get_device_properties(0).total_memory / (1024 ** 3)))\n",
        "        \n",
        "        if verbose or step == total_steps:\n",
        "            _, axes = plt.subplots(1, 3, figsize=(18,6))\n",
        "            axes[0].imshow(gt['img'].cpu().view(lr_sidelength, lr_sidelength).detach().numpy())\n",
        "            axes[0].set_title('GT '+ str(lr_sidelength) + 'x' + str(lr_sidelength))\n",
        "            axes[1].imshow(hr_img.cpu().view(hr_sidelength, hr_sidelength).detach().numpy())\n",
        "            axes[1].set_title('SISR ' + str(lr_sidelength) + ' to ' + str(hr_sidelength))\n",
        "            axes[2].imshow(hr_gt['img'].cpu().view(hr_sidelength, hr_sidelength).detach().numpy())\n",
        "            axes[2].set_title('GT ' + str(hr_sidelength) + 'x' + str(hr_sidelength))\n",
        "            plt.show()\n",
        "\n",
        "    optim.zero_grad()\n",
        "    loss.backward()\n",
        "    optim.step()\n",
        "\n",
        "# Collect data to compare results\n",
        "siren_sisr = hr_img.cpu().detach()\n",
        "psnrs_siren_sisr = psnrs\n",
        "ssims_siren_sisr = ssims\n",
        "psnr_siren_sisr = psnrs[-1]\n",
        "ssim_siren_sisr = ssims[-1]\n",
        "\n",
        "print('PSNR:', psnr_siren_sisr)\n",
        "print('SSIM:', ssim_siren_sisr)"
      ],
      "execution_count": null,
      "outputs": []
    },
    {
      "cell_type": "markdown",
      "metadata": {
        "id": "LrmAPp5VY2n8"
      },
      "source": [
        "### 6.2.4 - SIREN with VGG loss"
      ]
    },
    {
      "cell_type": "code",
      "metadata": {
        "id": "XMZvlW8CY2n9"
      },
      "source": [
        "sys.path.append('siren/src/include/siren')\n",
        "import modules\n",
        "\n",
        "input = {'coords' : model_input}\n",
        "hr_input = {'coords' : hr_grid}\n",
        "\n",
        "# Create the network\n",
        "siren_net = modules.SingleBVPNet(type='sine', mode='mlp', hidden_features=HIDDEN_FEATURES, num_hidden_layers=HIDDEN_LAYERS, sidelength=lr_sidelength)\n",
        "model = siren_net.cuda()\n",
        "\n",
        "loss_fn = loss_functions.VGGPerceptualLoss().cuda()\n",
        "\n",
        "# Define optimizer\n",
        "optim = torch.optim.Adam(lr=LR, params=model.parameters())\n",
        "\n",
        "total_steps = TOTAL_STEPS\n",
        "steps_til_summary = STEPS_TIL_SUMMARY\n",
        "verbose = VERBOSE # True, False\n",
        "\n",
        "psnrs = []\n",
        "ssims = []\n",
        "\n",
        "for step in range(total_steps+1):\n",
        "    model_output = model(input)    \n",
        "    coords = model_output['model_in']\n",
        "    model_output = model_output['model_out']\n",
        "    hr_img = model(hr_input)    \n",
        "    hr_img = hr_img['model_out']\n",
        "\n",
        "    # Adapt images for VGG\n",
        "    _y = model_output.view(lr_sidelength, lr_sidelength).unsqueeze(0).unsqueeze(0)\n",
        "    _gt = gt['img'].view(lr_sidelength, lr_sidelength).unsqueeze(0).unsqueeze(0)\n",
        "    loss = loss_fn(_y, _gt)\n",
        "\n",
        "    psnrs.append(myutils.img_psnr(hr_img, hr_gt['img'], hr_sidelength))\n",
        "    ssims.append(myutils.img_ssim(hr_img, hr_gt['img'], hr_sidelength))\n",
        "    \n",
        "    if not step % steps_til_summary:\n",
        "        print(\"Step %d, Total loss %0.6f\" % (step, loss))\n",
        "        print('GPU Memory occupation: %0.1f / %0.1f GB' % (torch.cuda.memory_allocated(0) / (1024 ** 3), torch.cuda.get_device_properties(0).total_memory / (1024 ** 3)))\n",
        "        \n",
        "        if verbose or step == total_steps:\n",
        "            _, axes = plt.subplots(1, 3, figsize=(18,6))\n",
        "            axes[0].imshow(gt['img'].cpu().view(lr_sidelength, lr_sidelength).detach().numpy())\n",
        "            axes[0].set_title('GT '+ str(lr_sidelength) + 'x' + str(lr_sidelength))\n",
        "            axes[1].imshow(hr_img.cpu().view(hr_sidelength, hr_sidelength).detach().numpy())\n",
        "            axes[1].set_title('SISR ' + str(lr_sidelength) + ' to ' + str(hr_sidelength))\n",
        "            axes[2].imshow(hr_gt['img'].cpu().view(hr_sidelength, hr_sidelength).detach().numpy())\n",
        "            axes[2].set_title('GT ' + str(hr_sidelength) + 'x' + str(hr_sidelength))\n",
        "            plt.show()\n",
        "\n",
        "    optim.zero_grad()\n",
        "    loss.backward()\n",
        "    optim.step()\n",
        "\n",
        "# Collect data to compare results\n",
        "siren_vgg_sisr = hr_img.cpu().detach()\n",
        "psnrs_siren_vgg_sisr = psnrs\n",
        "ssims_siren_vgg_sisr = ssims\n",
        "psnr_siren_vgg_sisr = psnrs[-1]\n",
        "ssim_siren_vgg_sisr = ssims[-1]\n",
        "\n",
        "print('PSNR:', psnr_siren_vgg_sisr)\n",
        "print('SSIM:', ssim_siren_vgg_sisr)"
      ],
      "execution_count": null,
      "outputs": []
    },
    {
      "cell_type": "markdown",
      "metadata": {
        "id": "I4PUcnYAY2n9"
      },
      "source": [
        "### 6.2.5 - SIREN with P.E."
      ]
    },
    {
      "cell_type": "code",
      "metadata": {
        "id": "LvdUhqesY2n-"
      },
      "source": [
        "sys.path.append('siren/src/include/siren')\n",
        "import modules\n",
        "\n",
        "input = {'coords' : model_input}\n",
        "hr_input = {'coords' : hr_grid}\n",
        "\n",
        "# Create the network\n",
        "siren_net = modules.SingleBVPNet(type='sine', mode='nerf', hidden_features=HIDDEN_FEATURES, num_hidden_layers=HIDDEN_LAYERS, sidelength=lr_sidelength)\n",
        "model = siren_net.cuda()\n",
        "\n",
        "# Define optimizer\n",
        "optim = torch.optim.Adam(lr=LR, params=model.parameters())\n",
        "\n",
        "total_steps = TOTAL_STEPS\n",
        "steps_til_summary = STEPS_TIL_SUMMARY\n",
        "verbose = VERBOSE # True, False\n",
        "\n",
        "psnrs = []\n",
        "ssims = []\n",
        "\n",
        "for step in range(total_steps+1):\n",
        "    model_output = model(input)    \n",
        "    coords = model_output['model_in']\n",
        "    model_output = model_output['model_out']\n",
        "    hr_img = model(hr_input)    \n",
        "    hr_img = hr_img['model_out']\n",
        "    loss = loss_functions.image_mse(model_output, coords, gt['img'])\n",
        "\n",
        "    psnrs.append(myutils.img_psnr(hr_img, hr_gt['img'], hr_sidelength))\n",
        "    ssims.append(myutils.img_ssim(hr_img, hr_gt['img'], hr_sidelength))\n",
        "    \n",
        "    if not step % steps_til_summary:\n",
        "        print(\"Step %d, Total loss %0.6f\" % (step, loss))\n",
        "        print('GPU Memory occupation: %0.1f / %0.1f GB' % (torch.cuda.memory_allocated(0) / (1024 ** 3), torch.cuda.get_device_properties(0).total_memory / (1024 ** 3)))\n",
        "        \n",
        "        if verbose or step == total_steps:\n",
        "            _, axes = plt.subplots(1, 3, figsize=(18,6))\n",
        "            axes[0].imshow(gt['img'].cpu().view(lr_sidelength, lr_sidelength).detach().numpy())\n",
        "            axes[0].set_title('GT '+ str(lr_sidelength) + 'x' + str(lr_sidelength))\n",
        "            axes[1].imshow(hr_img.cpu().view(hr_sidelength, hr_sidelength).detach().numpy())\n",
        "            axes[1].set_title('SISR ' + str(lr_sidelength) + ' to ' + str(hr_sidelength))\n",
        "            axes[2].imshow(hr_gt['img'].cpu().view(hr_sidelength, hr_sidelength).detach().numpy())\n",
        "            axes[2].set_title('GT ' + str(hr_sidelength) + 'x' + str(hr_sidelength))\n",
        "            plt.show()\n",
        "\n",
        "    optim.zero_grad()\n",
        "    loss.backward()\n",
        "    optim.step()\n",
        "\n",
        "# Collect data to compare results\n",
        "siren_nerf_sisr = hr_img.cpu().detach()\n",
        "psnrs_siren_nerf_sisr = psnrs\n",
        "ssims_siren_nerf_sisr = ssims\n",
        "psnr_siren_nerf_sisr = psnrs[-1]\n",
        "ssim_siren_nerf_sisr = ssims[-1]\n",
        "\n",
        "print('PSNR:', psnr_siren_nerf_sisr)\n",
        "print('SSIM:', ssim_siren_nerf_sisr)"
      ],
      "execution_count": null,
      "outputs": []
    },
    {
      "cell_type": "markdown",
      "metadata": {
        "id": "wYFEqYY4Y2n-"
      },
      "source": [
        "### 6.2.6 - SIREN with P.E. and VGG loss"
      ]
    },
    {
      "cell_type": "code",
      "metadata": {
        "id": "indCjcJ7Y2n_"
      },
      "source": [
        "sys.path.append('siren/src/include/siren')\n",
        "import modules\n",
        "\n",
        "input = {'coords' : model_input}\n",
        "hr_input = {'coords' : hr_grid}\n",
        "\n",
        "# Create the network\n",
        "siren_net = modules.SingleBVPNet(type='relu', mode='nerf', hidden_features=HIDDEN_FEATURES, num_hidden_layers=HIDDEN_LAYERS, sidelength=lr_sidelength)\n",
        "model = siren_net.cuda()\n",
        "\n",
        "loss_fn = loss_functions.VGGPerceptualLoss().cuda()\n",
        "\n",
        "# Define optimizer\n",
        "optim = torch.optim.Adam(lr=LR, params=model.parameters())\n",
        "\n",
        "total_steps = TOTAL_STEPS\n",
        "steps_til_summary = STEPS_TIL_SUMMARY\n",
        "verbose = VERBOSE # True, False\n",
        "\n",
        "psnrs = []\n",
        "ssims = []\n",
        "\n",
        "for step in range(total_steps+1):\n",
        "    model_output = model(input)    \n",
        "    coords = model_output['model_in']\n",
        "    model_output = model_output['model_out']\n",
        "    hr_img = model(hr_input)    \n",
        "    hr_img = hr_img['model_out']\n",
        "\n",
        "    # Adapt images for VGG\n",
        "    _y = model_output.view(lr_sidelength, lr_sidelength).unsqueeze(0).unsqueeze(0)\n",
        "    _gt = gt['img'].view(lr_sidelength, lr_sidelength).unsqueeze(0).unsqueeze(0)\n",
        "    loss = loss_fn(_y, _gt)\n",
        "\n",
        "    psnrs.append(myutils.img_psnr(hr_img, hr_gt['img'], hr_sidelength))\n",
        "    ssims.append(myutils.img_ssim(hr_img, hr_gt['img'], hr_sidelength))\n",
        "    \n",
        "    if not step % steps_til_summary:\n",
        "        print(\"Step %d, Total loss %0.6f\" % (step, loss))\n",
        "        print('GPU Memory occupation: %0.1f / %0.1f GB' % (torch.cuda.memory_allocated(0) / (1024 ** 3), torch.cuda.get_device_properties(0).total_memory / (1024 ** 3)))\n",
        "        \n",
        "        if verbose or step == total_steps:\n",
        "            _, axes = plt.subplots(1, 3, figsize=(18,6))\n",
        "            axes[0].imshow(gt['img'].cpu().view(lr_sidelength, lr_sidelength).detach().numpy())\n",
        "            axes[0].set_title('GT '+ str(lr_sidelength) + 'x' + str(lr_sidelength))\n",
        "            axes[1].imshow(hr_img.cpu().view(hr_sidelength, hr_sidelength).detach().numpy())\n",
        "            axes[1].set_title('SISR ' + str(lr_sidelength) + ' to ' + str(hr_sidelength))\n",
        "            axes[2].imshow(hr_gt['img'].cpu().view(hr_sidelength, hr_sidelength).detach().numpy())\n",
        "            axes[2].set_title('GT ' + str(hr_sidelength) + 'x' + str(hr_sidelength))\n",
        "            plt.show()\n",
        "\n",
        "    optim.zero_grad()\n",
        "    loss.backward()\n",
        "    optim.step()\n",
        "\n",
        "# Collect data to compare results\n",
        "siren_nerf_vgg_sisr = hr_img.cpu().detach()\n",
        "psnrs_siren_nerf_vgg_sisr = psnrs\n",
        "ssims_siren_nerf_vgg_sisr = ssims\n",
        "psnr_siren_nerf_vgg_sisr = psnrs[-1]\n",
        "ssim_siren_nerf_vgg_sisr = ssims[-1]\n",
        "\n",
        "print('PSNR:', psnr_siren_nerf_vgg_sisr)\n",
        "print('SSIM:', ssim_siren_nerf_vgg_sisr)"
      ],
      "execution_count": null,
      "outputs": []
    },
    {
      "cell_type": "markdown",
      "metadata": {
        "id": "6Jej4acLY2n_"
      },
      "source": [
        "### 6.2.7 - Collect and compare results"
      ]
    },
    {
      "cell_type": "code",
      "metadata": {
        "id": "V68l1AYyY2n_"
      },
      "source": [
        "psnr_data = {\r\n",
        "    'SIREN' : psnrs_siren_sisr,\r\n",
        "    'SIREN VGG' : psnrs_siren_vgg_sisr,\r\n",
        "    'SIREN P.E.' : psnrs_siren_nerf_sisr,\r\n",
        "    'SIREN P.E. VGG' : psnrs_siren_nerf_vgg_sisr,\r\n",
        "    }\r\n",
        "ssim_data = {\r\n",
        "    'SIREN' : ssims_siren_sisr,\r\n",
        "    'SIREN VGG' : ssims_siren_vgg_sisr,\r\n",
        "    'SIREN P.E.' : ssims_siren_nerf_sisr,\r\n",
        "    'SIREN P.E. VGG' : ssims_siren_nerf_vgg_sisr,\r\n",
        "    }\r\n",
        "\r\n",
        "myutils.plot_psnr_and_ssim(psnr_data, ssim_data, total_steps, save=True, fname='psnr_and_ssim_sisr_siren.png')\r\n",
        "\r\n",
        "images = {\r\n",
        "    'GT' : gt_sisr,\r\n",
        "    'SIREN' : siren_sisr,\r\n",
        "    'SIREN VGG' : siren_vgg_sisr,\r\n",
        "    'SIREN P.E.' : siren_nerf_sisr,\r\n",
        "    'SIREN P.E. VGG' : siren_nerf_vgg_sisr,\r\n",
        "    }\r\n",
        "\r\n",
        "def print_sisr_grid(images, sidelength=512, figsize=(20, 4), textsize=24, fname='sisr_grid_siren.png'):\r\n",
        "    fig = plt.figure(constrained_layout=False, figsize=figsize)\r\n",
        "    gs = fig.add_gridspec(1, len(images), wspace=0, hspace=0)\r\n",
        "\r\n",
        "    for i, (key, value) in enumerate(images.items()):\r\n",
        "        a1 = fig.add_subplot(gs[0, i])\r\n",
        "        a1.imshow(value.cpu().view(sidelength, sidelength).detach().numpy(), cmap='gray')\r\n",
        "        a1.set_xticks([])\r\n",
        "        a1.set_yticks([])\r\n",
        "        a1.set_title(key, fontsize=textsize)\r\n",
        "    plt.savefig(fname=fname, bbox_inches='tight')\r\n",
        "    plt.show()\r\n",
        "\r\n",
        "print_sisr_grid(images, sidelength=hr_sidelength)\r\n",
        "\r\n",
        "print('SISR %dx%d to %dx%d' % (lr_sidelength, lr_sidelength, hr_sidelength, hr_sidelength))\r\n",
        "print('hidden layers: %d' % (HIDDEN_LAYERS))\r\n",
        "print('hidden features: %d' % (HIDDEN_FEATURES))\r\n",
        "print('total steps: %d' % (TOTAL_STEPS))\r\n",
        "print('\\n')\r\n",
        "\r\n",
        "print('PSNR:')\r\n",
        "for key, val in psnr_data.items():\r\n",
        "    print('\\t' + key + ': %0.6f' % (val[-1]))\r\n",
        "print('\\n')\r\n",
        "print('SSIM:')\r\n",
        "for key, val in ssim_data.items():\r\n",
        "    print('\\t' + key + ': %0.6f' % (val[-1]))"
      ],
      "execution_count": null,
      "outputs": []
    }
  ]
}